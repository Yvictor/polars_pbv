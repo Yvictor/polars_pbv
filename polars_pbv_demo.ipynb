{
 "cells": [
  {
   "cell_type": "code",
   "execution_count": 1,
   "id": "76c7ccff-00b9-49a8-ae20-3ace7d07c7b7",
   "metadata": {},
   "outputs": [],
   "source": [
    "import numpy as np\n",
    "import polars as pl\n",
    "import polars_pbv as pl_pbv\n",
    "import hvplot\n",
    "import holoviews as hv\n",
    "import panel as pn"
   ]
  },
  {
   "cell_type": "code",
   "execution_count": 3,
   "id": "33540bef-a218-4367-8bcd-a0a9c4083cea",
   "metadata": {},
   "outputs": [
    {
     "data": {
      "text/plain": [
       "'1.4.4'"
      ]
     },
     "execution_count": 3,
     "metadata": {},
     "output_type": "execute_result"
    }
   ],
   "source": [
    "pn.__version__"
   ]
  },
  {
   "cell_type": "code",
   "execution_count": 4,
   "id": "0d068ff7-c59c-41c7-97de-177608fa1eab",
   "metadata": {},
   "outputs": [
    {
     "data": {
      "text/plain": [
       "'1.18.3'"
      ]
     },
     "execution_count": 4,
     "metadata": {},
     "output_type": "execute_result"
    }
   ],
   "source": [
    "hv.__version__"
   ]
  },
  {
   "cell_type": "code",
   "execution_count": 5,
   "id": "6bd841d3-0a20-4781-897a-ef42a7dc5cba",
   "metadata": {},
   "outputs": [],
   "source": [
    "n = 1000\n",
    "w = 120\n",
    "b = 20\n",
    "df = pl.DataFrame({\n",
    "    \"index\": np.arange(0, n),\n",
    "    \"price\": np.random.normal(size=n),\n",
    "    \"volume\": np.random.randint(0, 1000, n),\n",
    "}).with_columns(\n",
    "    pl.col(\"price\").cum_sum()\n",
    ").with_columns(\n",
    "    pl_pbv.pbv_pct(\"price\", \"volume\", w, b, center=False).alias(\"pbv\")\n",
    ")"
   ]
  },
  {
   "cell_type": "code",
   "execution_count": 6,
   "id": "885a063a-9f06-434b-9c21-8f6ac95ff074",
   "metadata": {},
   "outputs": [
    {
     "data": {
      "text/html": [
       "<div><style>\n",
       ".dataframe > thead > tr,\n",
       ".dataframe > tbody > tr {\n",
       "  text-align: right;\n",
       "  white-space: pre-wrap;\n",
       "}\n",
       "</style>\n",
       "<small>shape: (1_000, 4)</small><table border=\"1\" class=\"dataframe\"><thead><tr><th>index</th><th>price</th><th>volume</th><th>pbv</th></tr><tr><td>i64</td><td>f64</td><td>i64</td><td>struct[2]</td></tr></thead><tbody><tr><td>0</td><td>0.694999</td><td>979</td><td>{null,null}</td></tr><tr><td>1</td><td>1.65609</td><td>968</td><td>{null,null}</td></tr><tr><td>2</td><td>2.348936</td><td>922</td><td>{null,null}</td></tr><tr><td>3</td><td>1.011861</td><td>796</td><td>{null,null}</td></tr><tr><td>4</td><td>2.256975</td><td>0</td><td>{null,null}</td></tr><tr><td>&hellip;</td><td>&hellip;</td><td>&hellip;</td><td>&hellip;</td></tr><tr><td>995</td><td>35.706383</td><td>735</td><td>{[29.585915, 30.208259, … 41.410433],[0.024675, 0.014959, … 0.038207]}</td></tr><tr><td>996</td><td>35.475052</td><td>45</td><td>{[29.585915, 30.208259, … 41.410433],[0.02496, 0.015132, … 0.038648]}</td></tr><tr><td>997</td><td>34.708433</td><td>629</td><td>{[29.585915, 30.208259, … 41.410433],[0.024923, 0.015109, … 0.03859]}</td></tr><tr><td>998</td><td>35.17219</td><td>980</td><td>{[29.585915, 30.208259, … 41.410433],[0.024762, 0.015012, … 0.038342]}</td></tr><tr><td>999</td><td>35.352149</td><td>915</td><td>{[29.585915, 30.208259, … 41.410433],[0.024646, 0.014941, … 0.038162]}</td></tr></tbody></table></div>"
      ],
      "text/plain": [
       "shape: (1_000, 4)\n",
       "┌───────┬───────────┬────────┬───────────────────────────────────┐\n",
       "│ index ┆ price     ┆ volume ┆ pbv                               │\n",
       "│ ---   ┆ ---       ┆ ---    ┆ ---                               │\n",
       "│ i64   ┆ f64       ┆ i64    ┆ struct[2]                         │\n",
       "╞═══════╪═══════════╪════════╪═══════════════════════════════════╡\n",
       "│ 0     ┆ 0.694999  ┆ 979    ┆ {null,null}                       │\n",
       "│ 1     ┆ 1.65609   ┆ 968    ┆ {null,null}                       │\n",
       "│ 2     ┆ 2.348936  ┆ 922    ┆ {null,null}                       │\n",
       "│ 3     ┆ 1.011861  ┆ 796    ┆ {null,null}                       │\n",
       "│ 4     ┆ 2.256975  ┆ 0      ┆ {null,null}                       │\n",
       "│ …     ┆ …         ┆ …      ┆ …                                 │\n",
       "│ 995   ┆ 35.706383 ┆ 735    ┆ {[29.585915, 30.208259, … 41.410… │\n",
       "│ 996   ┆ 35.475052 ┆ 45     ┆ {[29.585915, 30.208259, … 41.410… │\n",
       "│ 997   ┆ 34.708433 ┆ 629    ┆ {[29.585915, 30.208259, … 41.410… │\n",
       "│ 998   ┆ 35.17219  ┆ 980    ┆ {[29.585915, 30.208259, … 41.410… │\n",
       "│ 999   ┆ 35.352149 ┆ 915    ┆ {[29.585915, 30.208259, … 41.410… │\n",
       "└───────┴───────────┴────────┴───────────────────────────────────┘"
      ]
     },
     "execution_count": 6,
     "metadata": {},
     "output_type": "execute_result"
    }
   ],
   "source": [
    "df"
   ]
  },
  {
   "cell_type": "code",
   "execution_count": 7,
   "id": "2b5789a7-4bbb-452a-a00e-d6779c1b993e",
   "metadata": {},
   "outputs": [],
   "source": [
    "df_pbv = df.tail(1).select(\n",
    "    pl.col(\"pbv\").struct.field(\"price\").list.explode(),\n",
    "    pl.col(\"pbv\").struct.field(\"volume\").list.explode() * n,\n",
    ")\n",
    "pbv_data = df_pbv.to_dicts()\n",
    "step = pbv_data[1][\"price\"] - pbv_data[0][\"price\"]\n",
    "pbv_v_max = df_pbv[\"volume\"].max()"
   ]
  },
  {
   "cell_type": "code",
   "execution_count": 16,
   "id": "c353f017-894f-4ce0-aebc-ab46574d4f1d",
   "metadata": {},
   "outputs": [
    {
     "data": {},
     "metadata": {},
     "output_type": "display_data"
    },
    {
     "data": {
      "application/vnd.holoviews_exec.v0+json": "",
      "text/html": [
       "<div id='p1581'>\n",
       "  <div id=\"e77a8de2-1c2b-4ab4-85bc-9808cc27c169\" data-root-id=\"p1581\" style=\"display: contents;\"></div>\n",
       "</div>\n",
       "<script type=\"application/javascript\">(function(root) {\n",
       "  var docs_json = {\"9d7fb1b3-8c31-488b-a997-1f6996584bae\":{\"version\":\"3.4.1\",\"title\":\"Bokeh Application\",\"roots\":[{\"type\":\"object\",\"name\":\"Row\",\"id\":\"p1581\",\"attributes\":{\"name\":\"Row02372\",\"tags\":[\"embedded\"],\"stylesheets\":[\"\\n:host(.pn-loading):before, .pn-loading:before {\\n  background-color: #c3c3c3;\\n  mask-size: auto calc(min(50%, 400px));\\n  -webkit-mask-size: auto calc(min(50%, 400px));\\n}\",{\"type\":\"object\",\"name\":\"ImportedStyleSheet\",\"id\":\"p1584\",\"attributes\":{\"url\":\"https://cdn.holoviz.org/panel/1.4.4/dist/css/loading.css\"}},{\"type\":\"object\",\"name\":\"ImportedStyleSheet\",\"id\":\"p1715\",\"attributes\":{\"url\":\"https://cdn.holoviz.org/panel/1.4.4/dist/css/listpanel.css\"}},{\"type\":\"object\",\"name\":\"ImportedStyleSheet\",\"id\":\"p1582\",\"attributes\":{\"url\":\"https://cdn.holoviz.org/panel/1.4.4/dist/bundled/theme/default.css\"}},{\"type\":\"object\",\"name\":\"ImportedStyleSheet\",\"id\":\"p1583\",\"attributes\":{\"url\":\"https://cdn.holoviz.org/panel/1.4.4/dist/bundled/theme/native.css\"}}],\"margin\":0,\"sizing_mode\":\"stretch_width\",\"align\":\"start\",\"children\":[{\"type\":\"object\",\"name\":\"Spacer\",\"id\":\"p1585\",\"attributes\":{\"name\":\"HSpacer02378\",\"stylesheets\":[\"\\n:host(.pn-loading):before, .pn-loading:before {\\n  background-color: #c3c3c3;\\n  mask-size: auto calc(min(50%, 400px));\\n  -webkit-mask-size: auto calc(min(50%, 400px));\\n}\",{\"id\":\"p1584\"},{\"id\":\"p1582\"},{\"id\":\"p1583\"}],\"margin\":0,\"sizing_mode\":\"stretch_width\",\"align\":\"start\"}},{\"type\":\"object\",\"name\":\"GridPlot\",\"id\":\"p1703\",\"attributes\":{\"rows\":null,\"cols\":null,\"toolbar\":{\"type\":\"object\",\"name\":\"Toolbar\",\"id\":\"p1711\",\"attributes\":{\"tools\":[{\"type\":\"object\",\"name\":\"ToolProxy\",\"id\":\"p1705\",\"attributes\":{\"tools\":[{\"type\":\"object\",\"name\":\"WheelZoomTool\",\"id\":\"p1591\",\"attributes\":{\"tags\":[\"hv_created\"],\"renderers\":\"auto\",\"zoom_together\":\"none\"}},{\"type\":\"object\",\"name\":\"WheelZoomTool\",\"id\":\"p1656\",\"attributes\":{\"tags\":[\"hv_created\"],\"renderers\":\"auto\",\"zoom_together\":\"none\"}}]}},{\"type\":\"object\",\"name\":\"ToolProxy\",\"id\":\"p1706\",\"attributes\":{\"tools\":[{\"type\":\"object\",\"name\":\"HoverTool\",\"id\":\"p1592\",\"attributes\":{\"tags\":[\"hv_created\"],\"renderers\":[{\"type\":\"object\",\"name\":\"GlyphRenderer\",\"id\":\"p1635\",\"attributes\":{\"data_source\":{\"type\":\"object\",\"name\":\"ColumnDataSource\",\"id\":\"p1626\",\"attributes\":{\"selected\":{\"type\":\"object\",\"name\":\"Selection\",\"id\":\"p1627\",\"attributes\":{\"indices\":[],\"line_indices\":[]}},\"selection_policy\":{\"type\":\"object\",\"name\":\"UnionRenderers\",\"id\":\"p1628\"},\"data\":{\"type\":\"map\",\"entries\":[[\"index\",{\"type\":\"ndarray\",\"array\":{\"type\":\"bytes\",\"data\":\"cAMAAHEDAAByAwAAcwMAAHQDAAB1AwAAdgMAAHcDAAB4AwAAeQMAAHoDAAB7AwAAfAMAAH0DAAB+AwAAfwMAAIADAACBAwAAggMAAIMDAACEAwAAhQMAAIYDAACHAwAAiAMAAIkDAACKAwAAiwMAAIwDAACNAwAAjgMAAI8DAACQAwAAkQMAAJIDAACTAwAAlAMAAJUDAACWAwAAlwMAAJgDAACZAwAAmgMAAJsDAACcAwAAnQMAAJ4DAACfAwAAoAMAAKEDAACiAwAAowMAAKQDAAClAwAApgMAAKcDAACoAwAAqQMAAKoDAACrAwAArAMAAK0DAACuAwAArwMAALADAACxAwAAsgMAALMDAAC0AwAAtQMAALYDAAC3AwAAuAMAALkDAAC6AwAAuwMAALwDAAC9AwAAvgMAAL8DAADAAwAAwQMAAMIDAADDAwAAxAMAAMUDAADGAwAAxwMAAMgDAADJAwAAygMAAMsDAADMAwAAzQMAAM4DAADPAwAA0AMAANEDAADSAwAA0wMAANQDAADVAwAA1gMAANcDAADYAwAA2QMAANoDAADbAwAA3AMAAN0DAADeAwAA3wMAAOADAADhAwAA4gMAAOMDAADkAwAA5QMAAOYDAADnAwAA\"},\"shape\":[120],\"dtype\":\"int32\",\"order\":\"little\"}],[\"price\",{\"type\":\"ndarray\",\"array\":{\"type\":\"bytes\",\"data\":\"RzhhBlvIQECcSUnHVO5AQDI5WjHQ70BA+l0dKXcIQkC82VDf2vZBQInu+Y3xQkJAEFIHyWb6QkDX5KPJwchCQD63fspwkkJAS8K72lrgQkATUqJkGzNDQD1c41MoYUNARmNYGEC1REAMA3wDMgRFQMBR/PSA00RA8s56ElyUREAPGoUKUWRDQLqtipwIH0NAsZOVMD0HQ0DI3IQL29BCQC708yF26UJAVinRo+9JQkB6Zva8bb9CQJ+8twgTMUJA4kooi7wLQkAz9AuXWx5CQK72w1sSo0FAVSNNJHY5QUBCbN1bJMBBQNusIBzFnkFA+1ULMmPaQUCaIq9twNJCQK0L4YcQ4UNAuM0ZPvo7RECPwhJ/3s1EQH6o1EmX1URADyKMxi1WREBK7yBEBYhEQK5a9Br8DERAqiaRNELsQ0Cc0auAB3JDQOazMvRcdkNAPjdgtRQDQ0AuZsZPRSpDQM40+aZdS0NAujdEVR4cQ0D6gykt0K5BQFYy7zJidEJArzfJGlwIQkDVGTPwMd5BQAiPfVZXO0JAfIw2nKtgQUCPWoK27BVCQNTXa7WSakJA07PMxfOOQUDRvbPlAslBQFJLfDTA2UFAtcqw5WSzQUCuc9TqICFBQKRTBarmZEFALzv9YnZUQUAdcD++vl1BQH5UQeJTEUFAe7pqoCczQUC7t/s1m1RBQA9KTWr6o0FALDBzQzF6QUD+hZB7aHdBQFG8uKCmLEFAXpnshT0CQUBFRKVcNtRAQKfag7DGY0BA3HtfoDJQQECQ8H8AQKVAQFFb7jm2VkBAixL83d58QEB4j+T/H+9AQLLuZpwtR0BAtF1TwB5hQECF+3v74AZBQGGv7hM0CkFAROcpTUXIQEBiMz81n/JAQJIiLCzIuEBAuEwtIq6LQEArwlwiyQFAQC6zgEPWOD9ARmCu5m+CPkBjqMlew+E9QIxUQY7+lT1AtLKikuIlPkDRCxDDmn0+QLgBW1ZK0T5AZSmYLCf4P0C9h8YE0LZAQLkH/RZZfUBATWXvSzjWQECvvr4YWe9AQHdXPksI30BARtDk1LzfQEDIjYe2H25BQGWEtlDAvkFAxPXSYP7XQUDijnLnBeJBQKSePUC0l0FAh6GM33FUQkAjHAFNXPlBQJQC/KXYmEJAOOh5G0Q3QkB6nSWLPH9CQE+qH1CdyUFAhsFHMrYmQkA+tQvA3ItCQOklNBNTc0FAiJu6wwT+QUDoZ8LFatpBQCJLjoTOvEFA7XPX8a1aQUAGHg5SCpZBQBZVNzUTrUFA\"},\"shape\":[120],\"dtype\":\"float64\",\"order\":\"little\"}]]}}},\"view\":{\"type\":\"object\",\"name\":\"CDSView\",\"id\":\"p1636\",\"attributes\":{\"filter\":{\"type\":\"object\",\"name\":\"AllIndices\",\"id\":\"p1637\"}}},\"glyph\":{\"type\":\"object\",\"name\":\"Line\",\"id\":\"p1632\",\"attributes\":{\"tags\":[\"apply_ranges\"],\"x\":{\"type\":\"field\",\"field\":\"index\"},\"y\":{\"type\":\"field\",\"field\":\"price\"},\"line_color\":\"#30a2da\",\"line_width\":2}},\"selection_glyph\":{\"type\":\"object\",\"name\":\"Line\",\"id\":\"p1638\",\"attributes\":{\"tags\":[\"apply_ranges\"],\"x\":{\"type\":\"field\",\"field\":\"index\"},\"y\":{\"type\":\"field\",\"field\":\"price\"},\"line_color\":\"#30a2da\",\"line_width\":2}},\"nonselection_glyph\":{\"type\":\"object\",\"name\":\"Line\",\"id\":\"p1633\",\"attributes\":{\"tags\":[\"apply_ranges\"],\"x\":{\"type\":\"field\",\"field\":\"index\"},\"y\":{\"type\":\"field\",\"field\":\"price\"},\"line_color\":\"#30a2da\",\"line_alpha\":0.1,\"line_width\":2}},\"muted_glyph\":{\"type\":\"object\",\"name\":\"Line\",\"id\":\"p1634\",\"attributes\":{\"tags\":[\"apply_ranges\"],\"x\":{\"type\":\"field\",\"field\":\"index\"},\"y\":{\"type\":\"field\",\"field\":\"price\"},\"line_color\":\"#30a2da\",\"line_alpha\":0.2,\"line_width\":2}}}}],\"tooltips\":[[\"index\",\"@{index}\"],[\"price\",\"@{price}\"]]}},{\"type\":\"object\",\"name\":\"HoverTool\",\"id\":\"p1657\",\"attributes\":{\"tags\":[\"hv_created\"],\"renderers\":[{\"type\":\"object\",\"name\":\"GlyphRenderer\",\"id\":\"p1698\",\"attributes\":{\"data_source\":{\"type\":\"object\",\"name\":\"ColumnDataSource\",\"id\":\"p1689\",\"attributes\":{\"selected\":{\"type\":\"object\",\"name\":\"Selection\",\"id\":\"p1690\",\"attributes\":{\"indices\":[],\"line_indices\":[]}},\"selection_policy\":{\"type\":\"object\",\"name\":\"UnionRenderers\",\"id\":\"p1691\"},\"data\":{\"type\":\"map\",\"entries\":[[\"index\",{\"type\":\"ndarray\",\"array\":{\"type\":\"bytes\",\"data\":\"AAAAAACAi0AAAAAAAISLQAAAAAAAhItAAAAAAACMi0AAAAAAAIyLQAAAAAAAlItAAAAAAACUi0AAAAAAAJyLQAAAAAAAnItAAAAAAACki0AAAAAAAKSLQAAAAAAArItAAAAAAACsi0AAAAAAALSLQAAAAAAAtItAAAAAAAC8i0AAAAAAALyLQAAAAAAAxItAAAAAAADEi0AAAAAAAMyLQAAAAAAAzItAAAAAAADUi0AAAAAAANSLQAAAAAAA3ItAAAAAAADci0AAAAAAAOSLQAAAAAAA5ItAAAAAAADsi0AAAAAAAOyLQAAAAAAA9ItAAAAAAAD0i0AAAAAAAPyLQAAAAAAA/ItAAAAAAAAEjEAAAAAAAASMQAAAAAAADIxAAAAAAAAMjEAAAAAAABSMQAAAAAAAFIxAAAAAAAAcjEAAAAAAAByMQAAAAAAAJIxAAAAAAAAkjEAAAAAAACyMQAAAAAAALIxAAAAAAAA0jEAAAAAAADSMQAAAAAAAPIxAAAAAAAA8jEAAAAAAAESMQAAAAAAARIxAAAAAAABMjEAAAAAAAEyMQAAAAAAAVIxAAAAAAABUjEAAAAAAAFyMQAAAAAAAXIxAAAAAAABkjEAAAAAAAGSMQAAAAAAAbIxAAAAAAABsjEAAAAAAAHSMQAAAAAAAdIxAAAAAAAB8jEAAAAAAAHyMQAAAAAAAhIxAAAAAAACEjEAAAAAAAIyMQAAAAAAAjIxAAAAAAACUjEAAAAAAAJSMQAAAAAAAnIxAAAAAAACcjEAAAAAAAKSMQAAAAAAApIxAAAAAAACsjEAAAAAAAKyMQAAAAAAAtIxAAAAAAAC0jEAAAAAAALyMQAAAAAAAvIxAAAAAAADEjEAAAAAAAMSMQAAAAAAAzIxAAAAAAADMjEAAAAAAANSMQAAAAAAA1IxAAAAAAADcjEAAAAAAANyMQAAAAAAA5IxAAAAAAADkjEAAAAAAAOyMQAAAAAAA7IxAAAAAAAD0jEAAAAAAAPSMQAAAAAAA/IxAAAAAAAD8jEAAAAAAAASNQAAAAAAABI1AAAAAAAAMjUAAAAAAAAyNQAAAAAAAFI1AAAAAAAAUjUAAAAAAAByNQAAAAAAAHI1AAAAAAAAkjUAAAAAAACSNQAAAAAAALI1AAAAAAAAsjUAAAAAAADSNQAAAAAAANI1AAAAAAAA8jUAAAAAAADyNQAAAAAAARI1AAAAAAABEjUAAAAAAAEyNQAAAAAAATI1AAAAAAABUjUAAAAAAAFSNQAAAAAAAXI1AAAAAAABcjUAAAAAAAGSNQAAAAAAAZI1AAAAAAABsjUAAAAAAAGyNQAAAAAAAdI1AAAAAAAB0jUAAAAAAAHyNQAAAAAAAfI1AAAAAAACEjUAAAAAAAISNQAAAAAAAjI1AAAAAAACMjUAAAAAAAJSNQAAAAAAAlI1AAAAAAACcjUAAAAAAAJyNQAAAAAAApI1AAAAAAACkjUAAAAAAAKyNQAAAAAAArI1AAAAAAAC0jUAAAAAAALSNQAAAAAAAvI1AAAAAAAC8jUAAAAAAAMSNQAAAAAAAxI1AAAAAAADMjUAAAAAAAMyNQAAAAAAA1I1AAAAAAADUjUAAAAAAANyNQAAAAAAA3I1AAAAAAADkjUAAAAAAAOSNQAAAAAAA7I1AAAAAAADsjUAAAAAAAPSNQAAAAAAA9I1AAAAAAAD8jUAAAAAAAPyNQAAAAAAABI5AAAAAAAAEjkAAAAAAAAyOQAAAAAAADI5AAAAAAAAUjkAAAAAAABSOQAAAAAAAHI5AAAAAAAAcjkAAAAAAACSOQAAAAAAAJI5AAAAAAAAsjkAAAAAAACyOQAAAAAAANI5AAAAAAAA0jkAAAAAAADyOQAAAAAAAPI5AAAAAAABEjkAAAAAAAESOQAAAAAAATI5AAAAAAABMjkAAAAAAAFSOQAAAAAAAVI5AAAAAAABcjkAAAAAAAFyOQAAAAAAAZI5AAAAAAABkjkAAAAAAAGyOQAAAAAAAbI5AAAAAAAB0jkAAAAAAAHSOQAAAAAAAfI5AAAAAAAB8jkAAAAAAAISOQAAAAAAAhI5AAAAAAACMjkAAAAAAAIyOQAAAAAAAlI5AAAAAAACUjkAAAAAAAJyOQAAAAAAAnI5AAAAAAACkjkAAAAAAAKSOQAAAAAAArI5AAAAAAACsjkAAAAAAALSOQAAAAAAAtI5AAAAAAAC8jkAAAAAAALyOQAAAAAAAxI5AAAAAAADEjkAAAAAAAMyOQAAAAAAAzI5AAAAAAADUjkAAAAAAANSOQAAAAAAA3I5AAAAAAADcjkAAAAAAAOSOQAAAAAAA5I5AAAAAAADsjkAAAAAAAOyOQAAAAAAA9I5AAAAAAAD0jkAAAAAAAPyOQAAAAAAA/I5AAAAAAAAEj0AAAAAAAASPQAAAAAAADI9AAAAAAAAMj0AAAAAAABSPQAAAAAAAFI9AAAAAAAAcj0AAAAAAAByPQAAAAAAAJI9AAAAAAAAkj0AAAAAAACyPQAAAAAAALI9AAAAAAAA0j0AAAAAAADSPQAAAAAAAOI9A\"},\"shape\":[240],\"dtype\":\"float64\",\"order\":\"little\"}],[\"volume\",{\"type\":\"ndarray\",\"array\":{\"type\":\"bytes\",\"data\":\"xwIAAMcCAADXAwAA1wMAABwBAAAcAQAARwAAAEcAAABhAwAAYQMAAPwCAAD8AgAAmgAAAJoAAADaAwAA2gMAAFAAAABQAAAAdgEAAHYBAACwAQAAsAEAAEMAAABDAAAA4AIAAOACAADVAQAA1QEAAKUBAAClAQAAlQAAAJUAAAC+AgAAvgIAADcAAAA3AAAAiwMAAIsDAACQAAAAkAAAAGsDAABrAwAAsQAAALEAAAAcAQAAHAEAAMECAADBAgAAdwMAAHcDAACIAgAAiAIAALwDAAC8AwAA1gMAANYDAADWAAAA1gAAAAkCAAAJAgAA5wIAAOcCAABeAgAAXgIAANABAADQAQAAygMAAMoDAACdAAAAnQAAAFgCAABYAgAAHAIAABwCAAAJAwAACQMAAF8DAABfAwAAcgMAAHIDAAAsAQAALAEAAEoCAABKAgAAqQMAAKkDAAASAAAAEgAAAKgDAACoAwAAJQIAACUCAAD3AAAA9wAAAK4CAACuAgAAogEAAKIBAADFAAAAxQAAAF0AAABdAAAAeAAAAHgAAABdAAAAXQAAAA0AAAANAAAAZgEAAGYBAADTAQAA0wEAAO4AAADuAAAAqgIAAKoCAAAUAwAAFAMAAH4BAAB+AQAA4AAAAOAAAACtAwAArQMAAAkCAAAJAgAA6QAAAOkAAAB+AgAAfgIAABUAAAAVAAAADgMAAA4DAADzAQAA8wEAAAgBAAAIAQAAfQMAAH0DAABxAwAAcQMAALUAAAC1AAAAlQAAAJUAAAA7AQAAOwEAAA0DAAANAwAADgEAAA4BAABHAgAARwIAAMgCAADIAgAASwIAAEsCAACcAgAAnAIAAJkDAACZAwAACgMAAAoDAABLAgAASwIAAAwCAAAMAgAASgMAAEoDAAArAwAAKwMAAKUDAAClAwAAHAAAABwAAABPAwAATwMAAIcCAACHAgAALQAAAC0AAACxAAAAsQAAANgCAADYAgAAxAEAAMQBAABJAwAASQMAAIsDAACLAwAAxQEAAMUBAABYAAAAWAAAAD4CAAA+AgAA5QEAAOUBAADtAQAA7QEAAIIAAACCAAAAtgAAALYAAADyAQAA8gEAANUDAADVAwAATwEAAE8BAAC3AAAAtwAAACkCAAApAgAAmAIAAJgCAABhAgAAYQIAAMkCAADJAgAA3QIAAN0CAAA/AAAAPwAAAH8BAAB/AQAA8QEAAPEBAADfAgAA3wIAAC0AAAAtAAAAdQIAAHUCAADUAwAA1AMAAJMDAACTAwAA\"},\"shape\":[240],\"dtype\":\"int32\",\"order\":\"little\"}]]}}},\"view\":{\"type\":\"object\",\"name\":\"CDSView\",\"id\":\"p1699\",\"attributes\":{\"filter\":{\"type\":\"object\",\"name\":\"AllIndices\",\"id\":\"p1700\"}}},\"glyph\":{\"type\":\"object\",\"name\":\"Line\",\"id\":\"p1695\",\"attributes\":{\"tags\":[\"apply_ranges\"],\"x\":{\"type\":\"field\",\"field\":\"index\"},\"y\":{\"type\":\"field\",\"field\":\"volume\"},\"line_color\":\"#30a2da\",\"line_width\":2}},\"selection_glyph\":{\"type\":\"object\",\"name\":\"Line\",\"id\":\"p1701\",\"attributes\":{\"tags\":[\"apply_ranges\"],\"x\":{\"type\":\"field\",\"field\":\"index\"},\"y\":{\"type\":\"field\",\"field\":\"volume\"},\"line_color\":\"#30a2da\",\"line_width\":2}},\"nonselection_glyph\":{\"type\":\"object\",\"name\":\"Line\",\"id\":\"p1696\",\"attributes\":{\"tags\":[\"apply_ranges\"],\"x\":{\"type\":\"field\",\"field\":\"index\"},\"y\":{\"type\":\"field\",\"field\":\"volume\"},\"line_color\":\"#30a2da\",\"line_alpha\":0.1,\"line_width\":2}},\"muted_glyph\":{\"type\":\"object\",\"name\":\"Line\",\"id\":\"p1697\",\"attributes\":{\"tags\":[\"apply_ranges\"],\"x\":{\"type\":\"field\",\"field\":\"index\"},\"y\":{\"type\":\"field\",\"field\":\"volume\"},\"line_color\":\"#30a2da\",\"line_alpha\":0.2,\"line_width\":2}}}}],\"tooltips\":[[\"index\",\"@{index}\"],[\"volume\",\"@{volume}\"]]}}]}},{\"type\":\"object\",\"name\":\"SaveTool\",\"id\":\"p1707\"},{\"type\":\"object\",\"name\":\"ToolProxy\",\"id\":\"p1708\",\"attributes\":{\"tools\":[{\"type\":\"object\",\"name\":\"PanTool\",\"id\":\"p1618\"},{\"type\":\"object\",\"name\":\"PanTool\",\"id\":\"p1681\"}]}},{\"type\":\"object\",\"name\":\"ToolProxy\",\"id\":\"p1709\",\"attributes\":{\"tools\":[{\"type\":\"object\",\"name\":\"BoxZoomTool\",\"id\":\"p1619\",\"attributes\":{\"overlay\":{\"type\":\"object\",\"name\":\"BoxAnnotation\",\"id\":\"p1620\",\"attributes\":{\"syncable\":false,\"level\":\"overlay\",\"visible\":false,\"left\":{\"type\":\"number\",\"value\":\"nan\"},\"right\":{\"type\":\"number\",\"value\":\"nan\"},\"top\":{\"type\":\"number\",\"value\":\"nan\"},\"bottom\":{\"type\":\"number\",\"value\":\"nan\"},\"left_units\":\"canvas\",\"right_units\":\"canvas\",\"top_units\":\"canvas\",\"bottom_units\":\"canvas\",\"line_color\":\"black\",\"line_alpha\":1.0,\"line_width\":2,\"line_dash\":[4,4],\"fill_color\":\"lightgrey\",\"fill_alpha\":0.5}}}},{\"type\":\"object\",\"name\":\"BoxZoomTool\",\"id\":\"p1682\",\"attributes\":{\"overlay\":{\"type\":\"object\",\"name\":\"BoxAnnotation\",\"id\":\"p1683\",\"attributes\":{\"syncable\":false,\"level\":\"overlay\",\"visible\":false,\"left\":{\"type\":\"number\",\"value\":\"nan\"},\"right\":{\"type\":\"number\",\"value\":\"nan\"},\"top\":{\"type\":\"number\",\"value\":\"nan\"},\"bottom\":{\"type\":\"number\",\"value\":\"nan\"},\"left_units\":\"canvas\",\"right_units\":\"canvas\",\"top_units\":\"canvas\",\"bottom_units\":\"canvas\",\"line_color\":\"black\",\"line_alpha\":1.0,\"line_width\":2,\"line_dash\":[4,4],\"fill_color\":\"lightgrey\",\"fill_alpha\":0.5}}}}]}},{\"type\":\"object\",\"name\":\"ToolProxy\",\"id\":\"p1710\",\"attributes\":{\"tools\":[{\"type\":\"object\",\"name\":\"ResetTool\",\"id\":\"p1625\"},{\"type\":\"object\",\"name\":\"ResetTool\",\"id\":\"p1688\"}]}}]}},\"children\":[[{\"type\":\"object\",\"name\":\"Figure\",\"id\":\"p1595\",\"attributes\":{\"width\":700,\"height\":400,\"sizing_mode\":\"fixed\",\"align\":\"start\",\"x_range\":{\"type\":\"object\",\"name\":\"Range1d\",\"id\":\"p1586\",\"attributes\":{\"tags\":[[[\"index\",\"index\",null]],[]],\"start\":880.0,\"end\":999.0,\"reset_start\":880.0,\"reset_end\":999.0}},\"y_range\":{\"type\":\"object\",\"name\":\"Range1d\",\"id\":\"p1587\",\"attributes\":{\"tags\":[[[\"price\",\"price\",null]],{\"type\":\"map\",\"entries\":[[\"invert_yaxis\",false],[\"autorange\",false]]}],\"start\":15.980011167613654,\"end\":44.40120948761511,\"reset_start\":15.980011167613654,\"reset_end\":44.40120948761511}},\"x_scale\":{\"type\":\"object\",\"name\":\"LinearScale\",\"id\":\"p1605\"},\"y_scale\":{\"type\":\"object\",\"name\":\"LinearScale\",\"id\":\"p1606\"},\"title\":{\"type\":\"object\",\"name\":\"Title\",\"id\":\"p1598\",\"attributes\":{\"text_color\":\"black\",\"text_font_size\":\"12pt\"}},\"renderers\":[{\"id\":\"p1635\"},{\"type\":\"object\",\"name\":\"GlyphRenderer\",\"id\":\"p1648\",\"attributes\":{\"data_source\":{\"type\":\"object\",\"name\":\"ColumnDataSource\",\"id\":\"p1639\",\"attributes\":{\"selected\":{\"type\":\"object\",\"name\":\"Selection\",\"id\":\"p1640\",\"attributes\":{\"indices\":[],\"line_indices\":[]}},\"selection_policy\":{\"type\":\"object\",\"name\":\"UnionRenderers\",\"id\":\"p1641\"},\"data\":{\"type\":\"map\",\"entries\":[[\"left\",{\"type\":\"ndarray\",\"array\":{\"type\":\"bytes\",\"data\":\"AAAAAACAi0AAAAAAAICLQAAAAAAAgItAAAAAAACAi0AAAAAAAICLQAAAAAAAgItAAAAAAACAi0AAAAAAAICLQAAAAAAAgItAAAAAAACAi0AAAAAAAICLQAAAAAAAgItAAAAAAACAi0AAAAAAAICLQAAAAAAAgItAAAAAAACAi0AAAAAAAICLQAAAAAAAgItAAAAAAACAi0AAAAAAAICLQA==\"},\"shape\":[20],\"dtype\":\"float64\",\"order\":\"little\"}],[\"right\",{\"type\":\"ndarray\",\"array\":{\"type\":\"bytes\",\"data\":\"1UsgJIdJjUAkRaM9rPyMQKwLSnqDe4xAkC6rVKJpjEBFHXXP5F+MQC0Ymq6XL4xA9z/vZgT1i0BUUrbHYj2NQKslogjySoxAnxqxNX2HjkAoqKXqhA6PQDcWmWrS445A/GLN1Y7njkBueUgqLXaMQOT/8XJb/otAFCNIHR7Hi0AayBMrG3GMQGW22kgVC41AgVQNVu5kjkAEnLQ0qImMQA==\"},\"shape\":[20],\"dtype\":\"float64\",\"order\":\"little\"}],[\"bottom\",{\"type\":\"ndarray\",\"array\":{\"type\":\"bytes\",\"data\":\"U75OpjNZMkDnPNzHTCozQHu7aell+zNADzr3Cn/MNECjuIQsmJ01QDc3Ek6xbjZAyrWfb8o/N0BeNC2R4xA4QPKyurL84ThAhjFI1BWzOUAasNX1LoQ6QK4uYxdIVTtAQq3wOGEmPEDWK35aevc8QGqqC3yTyD1A/iiZnayZPkCSpya/xWo/QBMTWnDvHUBAXdIgAXyGQECnkeeRCO9AQA==\"},\"shape\":[20],\"dtype\":\"float64\",\"order\":\"little\"}],[\"top\",{\"type\":\"ndarray\",\"array\":{\"type\":\"bytes\",\"data\":\"5zzcx0wqM0B7u2npZfszQA869wp/zDRAo7iELJidNUA3NxJOsW42QMu1n2/KPzdAXjQtkeMQOEDysrqy/OE4QIYxSNQVszlAGrDV9S6EOkCuLmMXSFU7QEKt8DhhJjxA1it+Wnr3PEBqqgt8k8g9QP4omZ2smT5Akqcmv8VqP0ATE1pw7x1AQF3SIAF8hkBAp5HnkQjvQEDxUK4ilVdBQA==\"},\"shape\":[20],\"dtype\":\"float64\",\"order\":\"little\"}]]}}},\"view\":{\"type\":\"object\",\"name\":\"CDSView\",\"id\":\"p1649\",\"attributes\":{\"filter\":{\"type\":\"object\",\"name\":\"AllIndices\",\"id\":\"p1650\"}}},\"glyph\":{\"type\":\"object\",\"name\":\"Quad\",\"id\":\"p1645\",\"attributes\":{\"tags\":[\"apply_ranges\"],\"left\":{\"type\":\"field\",\"field\":\"left\"},\"right\":{\"type\":\"field\",\"field\":\"right\"},\"bottom\":{\"type\":\"field\",\"field\":\"bottom\"},\"top\":{\"type\":\"field\",\"field\":\"top\"},\"line_alpha\":{\"type\":\"value\",\"value\":0.5},\"fill_color\":{\"type\":\"value\",\"value\":\"#1f77b4\"},\"fill_alpha\":{\"type\":\"value\",\"value\":0.5},\"hatch_alpha\":{\"type\":\"value\",\"value\":0.5}}},\"selection_glyph\":{\"type\":\"object\",\"name\":\"Quad\",\"id\":\"p1651\",\"attributes\":{\"tags\":[\"apply_ranges\"],\"left\":{\"type\":\"field\",\"field\":\"left\"},\"right\":{\"type\":\"field\",\"field\":\"right\"},\"bottom\":{\"type\":\"field\",\"field\":\"bottom\"},\"top\":{\"type\":\"field\",\"field\":\"top\"},\"line_color\":{\"type\":\"value\",\"value\":\"black\"},\"line_alpha\":{\"type\":\"value\",\"value\":0.5},\"line_width\":{\"type\":\"value\",\"value\":1},\"line_join\":{\"type\":\"value\",\"value\":\"bevel\"},\"line_cap\":{\"type\":\"value\",\"value\":\"butt\"},\"line_dash\":{\"type\":\"value\",\"value\":[]},\"line_dash_offset\":{\"type\":\"value\",\"value\":0},\"fill_color\":{\"type\":\"value\",\"value\":\"#1f77b4\"},\"fill_alpha\":{\"type\":\"value\",\"value\":0.5},\"hatch_color\":{\"type\":\"value\",\"value\":\"black\"},\"hatch_alpha\":{\"type\":\"value\",\"value\":0.5},\"hatch_scale\":{\"type\":\"value\",\"value\":12.0},\"hatch_pattern\":{\"type\":\"value\",\"value\":null},\"hatch_weight\":{\"type\":\"value\",\"value\":1.0}}},\"nonselection_glyph\":{\"type\":\"object\",\"name\":\"Quad\",\"id\":\"p1646\",\"attributes\":{\"tags\":[\"apply_ranges\"],\"left\":{\"type\":\"field\",\"field\":\"left\"},\"right\":{\"type\":\"field\",\"field\":\"right\"},\"bottom\":{\"type\":\"field\",\"field\":\"bottom\"},\"top\":{\"type\":\"field\",\"field\":\"top\"},\"line_alpha\":{\"type\":\"value\",\"value\":0.5},\"fill_color\":{\"type\":\"value\",\"value\":\"#1f77b4\"},\"fill_alpha\":{\"type\":\"value\",\"value\":0.5},\"hatch_alpha\":{\"type\":\"value\",\"value\":0.1}}},\"muted_glyph\":{\"type\":\"object\",\"name\":\"Quad\",\"id\":\"p1647\",\"attributes\":{\"tags\":[\"apply_ranges\"],\"left\":{\"type\":\"field\",\"field\":\"left\"},\"right\":{\"type\":\"field\",\"field\":\"right\"},\"bottom\":{\"type\":\"field\",\"field\":\"bottom\"},\"top\":{\"type\":\"field\",\"field\":\"top\"},\"line_alpha\":{\"type\":\"value\",\"value\":0.5},\"fill_color\":{\"type\":\"value\",\"value\":\"#1f77b4\"},\"fill_alpha\":{\"type\":\"value\",\"value\":0.5},\"hatch_alpha\":{\"type\":\"value\",\"value\":0.2}}}}}],\"toolbar\":{\"type\":\"object\",\"name\":\"Toolbar\",\"id\":\"p1604\",\"attributes\":{\"tools\":[{\"id\":\"p1591\"},{\"id\":\"p1592\"},{\"type\":\"object\",\"name\":\"SaveTool\",\"id\":\"p1617\"},{\"id\":\"p1618\"},{\"id\":\"p1619\"},{\"id\":\"p1625\"}],\"active_drag\":{\"id\":\"p1618\"},\"active_scroll\":{\"id\":\"p1591\"}}},\"toolbar_location\":null,\"left\":[{\"type\":\"object\",\"name\":\"LinearAxis\",\"id\":\"p1612\",\"attributes\":{\"ticker\":{\"type\":\"object\",\"name\":\"BasicTicker\",\"id\":\"p1613\",\"attributes\":{\"mantissas\":[1,2,5]}},\"formatter\":{\"type\":\"object\",\"name\":\"BasicTickFormatter\",\"id\":\"p1614\"},\"axis_label\":\"price\",\"major_label_policy\":{\"type\":\"object\",\"name\":\"AllLabels\",\"id\":\"p1615\"}}}],\"below\":[{\"type\":\"object\",\"name\":\"LinearAxis\",\"id\":\"p1607\",\"attributes\":{\"ticker\":{\"type\":\"object\",\"name\":\"BasicTicker\",\"id\":\"p1608\",\"attributes\":{\"mantissas\":[1,2,5]}},\"formatter\":{\"type\":\"object\",\"name\":\"BasicTickFormatter\",\"id\":\"p1609\"},\"axis_label\":\"\",\"major_label_policy\":{\"type\":\"object\",\"name\":\"AllLabels\",\"id\":\"p1610\"}}}],\"center\":[{\"type\":\"object\",\"name\":\"Grid\",\"id\":\"p1611\",\"attributes\":{\"axis\":{\"id\":\"p1607\"},\"grid_line_color\":null}},{\"type\":\"object\",\"name\":\"Grid\",\"id\":\"p1616\",\"attributes\":{\"dimension\":1,\"axis\":{\"id\":\"p1612\"},\"grid_line_color\":null}}],\"min_border_top\":10,\"min_border_bottom\":10,\"min_border_left\":10,\"min_border_right\":10,\"output_backend\":\"webgl\"}},0,0],[{\"type\":\"object\",\"name\":\"Figure\",\"id\":\"p1658\",\"attributes\":{\"width\":700,\"height\":200,\"sizing_mode\":\"fixed\",\"align\":\"start\",\"x_range\":{\"id\":\"p1586\"},\"y_range\":{\"type\":\"object\",\"name\":\"Range1d\",\"id\":\"p1652\",\"attributes\":{\"tags\":[[[\"volume\",\"volume\",null]],{\"type\":\"map\",\"entries\":[[\"invert_yaxis\",false],[\"autorange\",false]]}],\"start\":-84.30000000000001,\"end\":1083.3,\"reset_start\":-84.30000000000001,\"reset_end\":1083.3}},\"x_scale\":{\"type\":\"object\",\"name\":\"LinearScale\",\"id\":\"p1668\"},\"y_scale\":{\"type\":\"object\",\"name\":\"LinearScale\",\"id\":\"p1669\"},\"title\":{\"type\":\"object\",\"name\":\"Title\",\"id\":\"p1661\",\"attributes\":{\"text_color\":\"black\",\"text_font_size\":\"12pt\"}},\"renderers\":[{\"id\":\"p1698\"}],\"toolbar\":{\"type\":\"object\",\"name\":\"Toolbar\",\"id\":\"p1667\",\"attributes\":{\"tools\":[{\"id\":\"p1656\"},{\"id\":\"p1657\"},{\"type\":\"object\",\"name\":\"SaveTool\",\"id\":\"p1680\"},{\"id\":\"p1681\"},{\"id\":\"p1682\"},{\"id\":\"p1688\"}],\"active_drag\":{\"id\":\"p1681\"},\"active_scroll\":{\"id\":\"p1656\"}}},\"toolbar_location\":null,\"left\":[{\"type\":\"object\",\"name\":\"LinearAxis\",\"id\":\"p1675\",\"attributes\":{\"ticker\":{\"type\":\"object\",\"name\":\"BasicTicker\",\"id\":\"p1676\",\"attributes\":{\"mantissas\":[1,2,5]}},\"formatter\":{\"type\":\"object\",\"name\":\"BasicTickFormatter\",\"id\":\"p1677\"},\"axis_label\":\"volume\",\"major_label_policy\":{\"type\":\"object\",\"name\":\"AllLabels\",\"id\":\"p1678\"}}}],\"below\":[{\"type\":\"object\",\"name\":\"LinearAxis\",\"id\":\"p1670\",\"attributes\":{\"ticker\":{\"type\":\"object\",\"name\":\"BasicTicker\",\"id\":\"p1671\",\"attributes\":{\"mantissas\":[1,2,5]}},\"formatter\":{\"type\":\"object\",\"name\":\"BasicTickFormatter\",\"id\":\"p1672\"},\"axis_label\":\"\",\"major_label_policy\":{\"type\":\"object\",\"name\":\"AllLabels\",\"id\":\"p1673\"}}}],\"center\":[{\"type\":\"object\",\"name\":\"Grid\",\"id\":\"p1674\",\"attributes\":{\"axis\":{\"id\":\"p1670\"},\"grid_line_color\":null}},{\"type\":\"object\",\"name\":\"Grid\",\"id\":\"p1679\",\"attributes\":{\"dimension\":1,\"axis\":{\"id\":\"p1675\"},\"grid_line_color\":null}}],\"min_border_top\":10,\"min_border_bottom\":10,\"min_border_left\":10,\"min_border_right\":10,\"output_backend\":\"webgl\"}},1,0]]}},{\"type\":\"object\",\"name\":\"Spacer\",\"id\":\"p1713\",\"attributes\":{\"name\":\"HSpacer02379\",\"stylesheets\":[\"\\n:host(.pn-loading):before, .pn-loading:before {\\n  background-color: #c3c3c3;\\n  mask-size: auto calc(min(50%, 400px));\\n  -webkit-mask-size: auto calc(min(50%, 400px));\\n}\",{\"id\":\"p1584\"},{\"id\":\"p1582\"},{\"id\":\"p1583\"}],\"margin\":0,\"sizing_mode\":\"stretch_width\",\"align\":\"start\"}}]}}],\"defs\":[{\"type\":\"model\",\"name\":\"ReactiveHTML1\"},{\"type\":\"model\",\"name\":\"FlexBox1\",\"properties\":[{\"name\":\"align_content\",\"kind\":\"Any\",\"default\":\"flex-start\"},{\"name\":\"align_items\",\"kind\":\"Any\",\"default\":\"flex-start\"},{\"name\":\"flex_direction\",\"kind\":\"Any\",\"default\":\"row\"},{\"name\":\"flex_wrap\",\"kind\":\"Any\",\"default\":\"wrap\"},{\"name\":\"gap\",\"kind\":\"Any\",\"default\":\"\"},{\"name\":\"justify_content\",\"kind\":\"Any\",\"default\":\"flex-start\"}]},{\"type\":\"model\",\"name\":\"FloatPanel1\",\"properties\":[{\"name\":\"config\",\"kind\":\"Any\",\"default\":{\"type\":\"map\"}},{\"name\":\"contained\",\"kind\":\"Any\",\"default\":true},{\"name\":\"position\",\"kind\":\"Any\",\"default\":\"right-top\"},{\"name\":\"offsetx\",\"kind\":\"Any\",\"default\":null},{\"name\":\"offsety\",\"kind\":\"Any\",\"default\":null},{\"name\":\"theme\",\"kind\":\"Any\",\"default\":\"primary\"},{\"name\":\"status\",\"kind\":\"Any\",\"default\":\"normalized\"}]},{\"type\":\"model\",\"name\":\"GridStack1\",\"properties\":[{\"name\":\"mode\",\"kind\":\"Any\",\"default\":\"warn\"},{\"name\":\"ncols\",\"kind\":\"Any\",\"default\":null},{\"name\":\"nrows\",\"kind\":\"Any\",\"default\":null},{\"name\":\"allow_resize\",\"kind\":\"Any\",\"default\":true},{\"name\":\"allow_drag\",\"kind\":\"Any\",\"default\":true},{\"name\":\"state\",\"kind\":\"Any\",\"default\":[]}]},{\"type\":\"model\",\"name\":\"drag1\",\"properties\":[{\"name\":\"slider_width\",\"kind\":\"Any\",\"default\":5},{\"name\":\"slider_color\",\"kind\":\"Any\",\"default\":\"black\"},{\"name\":\"value\",\"kind\":\"Any\",\"default\":50}]},{\"type\":\"model\",\"name\":\"click1\",\"properties\":[{\"name\":\"terminal_output\",\"kind\":\"Any\",\"default\":\"\"},{\"name\":\"debug_name\",\"kind\":\"Any\",\"default\":\"\"},{\"name\":\"clears\",\"kind\":\"Any\",\"default\":0}]},{\"type\":\"model\",\"name\":\"FastWrapper1\",\"properties\":[{\"name\":\"object\",\"kind\":\"Any\",\"default\":null},{\"name\":\"style\",\"kind\":\"Any\",\"default\":null}]},{\"type\":\"model\",\"name\":\"NotificationAreaBase1\",\"properties\":[{\"name\":\"js_events\",\"kind\":\"Any\",\"default\":{\"type\":\"map\"}},{\"name\":\"position\",\"kind\":\"Any\",\"default\":\"bottom-right\"},{\"name\":\"_clear\",\"kind\":\"Any\",\"default\":0}]},{\"type\":\"model\",\"name\":\"NotificationArea1\",\"properties\":[{\"name\":\"js_events\",\"kind\":\"Any\",\"default\":{\"type\":\"map\"}},{\"name\":\"notifications\",\"kind\":\"Any\",\"default\":[]},{\"name\":\"position\",\"kind\":\"Any\",\"default\":\"bottom-right\"},{\"name\":\"_clear\",\"kind\":\"Any\",\"default\":0},{\"name\":\"types\",\"kind\":\"Any\",\"default\":[{\"type\":\"map\",\"entries\":[[\"type\",\"warning\"],[\"background\",\"#ffc107\"],[\"icon\",{\"type\":\"map\",\"entries\":[[\"className\",\"fas fa-exclamation-triangle\"],[\"tagName\",\"i\"],[\"color\",\"white\"]]}]]},{\"type\":\"map\",\"entries\":[[\"type\",\"info\"],[\"background\",\"#007bff\"],[\"icon\",{\"type\":\"map\",\"entries\":[[\"className\",\"fas fa-info-circle\"],[\"tagName\",\"i\"],[\"color\",\"white\"]]}]]}]}]},{\"type\":\"model\",\"name\":\"Notification\",\"properties\":[{\"name\":\"background\",\"kind\":\"Any\",\"default\":null},{\"name\":\"duration\",\"kind\":\"Any\",\"default\":3000},{\"name\":\"icon\",\"kind\":\"Any\",\"default\":null},{\"name\":\"message\",\"kind\":\"Any\",\"default\":\"\"},{\"name\":\"notification_type\",\"kind\":\"Any\",\"default\":null},{\"name\":\"_destroyed\",\"kind\":\"Any\",\"default\":false}]},{\"type\":\"model\",\"name\":\"TemplateActions1\",\"properties\":[{\"name\":\"open_modal\",\"kind\":\"Any\",\"default\":0},{\"name\":\"close_modal\",\"kind\":\"Any\",\"default\":0}]},{\"type\":\"model\",\"name\":\"BootstrapTemplateActions1\",\"properties\":[{\"name\":\"open_modal\",\"kind\":\"Any\",\"default\":0},{\"name\":\"close_modal\",\"kind\":\"Any\",\"default\":0}]},{\"type\":\"model\",\"name\":\"TemplateEditor1\",\"properties\":[{\"name\":\"layout\",\"kind\":\"Any\",\"default\":[]}]},{\"type\":\"model\",\"name\":\"MaterialTemplateActions1\",\"properties\":[{\"name\":\"open_modal\",\"kind\":\"Any\",\"default\":0},{\"name\":\"close_modal\",\"kind\":\"Any\",\"default\":0}]},{\"type\":\"model\",\"name\":\"copy_to_clipboard1\",\"properties\":[{\"name\":\"fill\",\"kind\":\"Any\",\"default\":\"none\"},{\"name\":\"value\",\"kind\":\"Any\",\"default\":null}]}]}};\n",
       "  var render_items = [{\"docid\":\"9d7fb1b3-8c31-488b-a997-1f6996584bae\",\"roots\":{\"p1581\":\"e77a8de2-1c2b-4ab4-85bc-9808cc27c169\"},\"root_ids\":[\"p1581\"]}];\n",
       "  var docs = Object.values(docs_json)\n",
       "  if (!docs) {\n",
       "    return\n",
       "  }\n",
       "  const py_version = docs[0].version.replace('rc', '-rc.').replace('.dev', '-dev.')\n",
       "  async function embed_document(root) {\n",
       "    var Bokeh = get_bokeh(root)\n",
       "    await Bokeh.embed.embed_items_notebook(docs_json, render_items);\n",
       "    for (const render_item of render_items) {\n",
       "      for (const root_id of render_item.root_ids) {\n",
       "\tconst id_el = document.getElementById(root_id)\n",
       "\tif (id_el.children.length && id_el.children[0].hasAttribute('data-root-id')) {\n",
       "\t  const root_el = id_el.children[0]\n",
       "\t  root_el.id = root_el.id + '-rendered'\n",
       "\t  for (const child of root_el.children) {\n",
       "            // Ensure JupyterLab does not capture keyboard shortcuts\n",
       "            // see: https://jupyterlab.readthedocs.io/en/4.1.x/extension/notebook.html#keyboard-interaction-model\n",
       "\t    child.setAttribute('data-lm-suppress-shortcuts', 'true')\n",
       "\t  }\n",
       "\t}\n",
       "      }\n",
       "    }\n",
       "  }\n",
       "  function get_bokeh(root) {\n",
       "    if (root.Bokeh === undefined) {\n",
       "      return null\n",
       "    } else if (root.Bokeh.version !== py_version) {\n",
       "      if (root.Bokeh.versions === undefined || !root.Bokeh.versions.has(py_version)) {\n",
       "\treturn null\n",
       "      }\n",
       "      return root.Bokeh.versions.get(py_version);\n",
       "    } else if (root.Bokeh.version === py_version) {\n",
       "      return root.Bokeh\n",
       "    }\n",
       "    return null\n",
       "  }\n",
       "  function is_loaded(root) {\n",
       "    var Bokeh = get_bokeh(root)\n",
       "    return (Bokeh != null && Bokeh.Panel !== undefined)\n",
       "  }\n",
       "  if (is_loaded(root)) {\n",
       "    embed_document(root);\n",
       "  } else {\n",
       "    var attempts = 0;\n",
       "    var timer = setInterval(function(root) {\n",
       "      if (is_loaded(root)) {\n",
       "        clearInterval(timer);\n",
       "        embed_document(root);\n",
       "      } else if (document.readyState == \"complete\") {\n",
       "        attempts++;\n",
       "        if (attempts > 200) {\n",
       "          clearInterval(timer);\n",
       "\t  var Bokeh = get_bokeh(root)\n",
       "\t  if (Bokeh == null || Bokeh.Panel == null) {\n",
       "            console.warn(\"Panel: ERROR: Unable to run Panel code because Bokeh or Panel library is missing\");\n",
       "\t  } else {\n",
       "\t    console.warn(\"Panel: WARNING: Attempting to render but not all required libraries could be resolved.\")\n",
       "\t    embed_document(root)\n",
       "\t  }\n",
       "        }\n",
       "      }\n",
       "    }, 25, root)\n",
       "  }\n",
       "})(window);</script>"
      ],
      "text/plain": [
       ":Layout\n",
       "   .Overlay.I :Overlay\n",
       "      .Curve.I      :Curve   [index]   (price)\n",
       "      .Rectangles.I :Rectangles   [x0,y0,x1,y1]\n",
       "   .Curve.I   :Curve   [index]   (volume)"
      ]
     },
     "execution_count": 16,
     "metadata": {
      "application/vnd.holoviews_exec.v0+json": {
       "id": "p1581"
      }
     },
     "output_type": "execute_result"
    }
   ],
   "source": [
    "((df.tail(w).plot.line(x=\"index\", y=\"price\", height=400) * \n",
    "  hv.Rectangles([[n-w, r[\"price\"], (n - w) + r[\"volume\"], r[\"price\"] + step] for r in pbv_data], ).opts(alpha=0.5)\n",
    " ) +  df.tail(w).plot.step(x=\"index\", y=\"volume\", height=200)).cols(1)"
   ]
  },
  {
   "cell_type": "code",
   "execution_count": 9,
   "id": "c0d11825-91e1-426f-87f4-1a0a5f46f0f6",
   "metadata": {},
   "outputs": [
    {
     "data": {
      "text/plain": [
       "120"
      ]
     },
     "execution_count": 9,
     "metadata": {},
     "output_type": "execute_result"
    }
   ],
   "source": [
    "w"
   ]
  },
  {
   "cell_type": "code",
   "execution_count": 15,
   "id": "14ddeb7c-db27-4180-b65a-4e5bd5b060d1",
   "metadata": {},
   "outputs": [
    {
     "data": {},
     "metadata": {},
     "output_type": "display_data"
    },
    {
     "data": {
      "application/vnd.holoviews_exec.v0+json": "",
      "text/html": [
       "<div id='p1437'>\n",
       "  <div id=\"ebbdc465-0ca5-49d5-86bf-905b5aff261e\" data-root-id=\"p1437\" style=\"display: contents;\"></div>\n",
       "</div>\n",
       "<script type=\"application/javascript\">(function(root) {\n",
       "  var docs_json = {\"36bb698f-3a59-4d63-9cbc-3e9ec6943a63\":{\"version\":\"3.4.1\",\"title\":\"Bokeh Application\",\"roots\":[{\"type\":\"object\",\"name\":\"Row\",\"id\":\"p1437\",\"attributes\":{\"name\":\"Row02021\",\"tags\":[\"embedded\"],\"stylesheets\":[\"\\n:host(.pn-loading):before, .pn-loading:before {\\n  background-color: #c3c3c3;\\n  mask-size: auto calc(min(50%, 400px));\\n  -webkit-mask-size: auto calc(min(50%, 400px));\\n}\",{\"type\":\"object\",\"name\":\"ImportedStyleSheet\",\"id\":\"p1440\",\"attributes\":{\"url\":\"https://cdn.holoviz.org/panel/1.4.4/dist/css/loading.css\"}},{\"type\":\"object\",\"name\":\"ImportedStyleSheet\",\"id\":\"p1571\",\"attributes\":{\"url\":\"https://cdn.holoviz.org/panel/1.4.4/dist/css/listpanel.css\"}},{\"type\":\"object\",\"name\":\"ImportedStyleSheet\",\"id\":\"p1438\",\"attributes\":{\"url\":\"https://cdn.holoviz.org/panel/1.4.4/dist/bundled/theme/default.css\"}},{\"type\":\"object\",\"name\":\"ImportedStyleSheet\",\"id\":\"p1439\",\"attributes\":{\"url\":\"https://cdn.holoviz.org/panel/1.4.4/dist/bundled/theme/native.css\"}}],\"margin\":0,\"sizing_mode\":\"stretch_width\",\"align\":\"start\",\"children\":[{\"type\":\"object\",\"name\":\"Spacer\",\"id\":\"p1441\",\"attributes\":{\"name\":\"HSpacer02027\",\"stylesheets\":[\"\\n:host(.pn-loading):before, .pn-loading:before {\\n  background-color: #c3c3c3;\\n  mask-size: auto calc(min(50%, 400px));\\n  -webkit-mask-size: auto calc(min(50%, 400px));\\n}\",{\"id\":\"p1440\"},{\"id\":\"p1438\"},{\"id\":\"p1439\"}],\"margin\":0,\"sizing_mode\":\"stretch_width\",\"align\":\"start\"}},{\"type\":\"object\",\"name\":\"GridPlot\",\"id\":\"p1559\",\"attributes\":{\"rows\":null,\"cols\":null,\"toolbar\":{\"type\":\"object\",\"name\":\"Toolbar\",\"id\":\"p1567\",\"attributes\":{\"tools\":[{\"type\":\"object\",\"name\":\"ToolProxy\",\"id\":\"p1561\",\"attributes\":{\"tools\":[{\"type\":\"object\",\"name\":\"WheelZoomTool\",\"id\":\"p1447\",\"attributes\":{\"tags\":[\"hv_created\"],\"renderers\":\"auto\",\"zoom_together\":\"none\"}},{\"type\":\"object\",\"name\":\"WheelZoomTool\",\"id\":\"p1512\",\"attributes\":{\"tags\":[\"hv_created\"],\"renderers\":\"auto\",\"zoom_together\":\"none\"}}]}},{\"type\":\"object\",\"name\":\"ToolProxy\",\"id\":\"p1562\",\"attributes\":{\"tools\":[{\"type\":\"object\",\"name\":\"HoverTool\",\"id\":\"p1448\",\"attributes\":{\"tags\":[\"hv_created\"],\"renderers\":[{\"type\":\"object\",\"name\":\"GlyphRenderer\",\"id\":\"p1491\",\"attributes\":{\"data_source\":{\"type\":\"object\",\"name\":\"ColumnDataSource\",\"id\":\"p1482\",\"attributes\":{\"selected\":{\"type\":\"object\",\"name\":\"Selection\",\"id\":\"p1483\",\"attributes\":{\"indices\":[],\"line_indices\":[]}},\"selection_policy\":{\"type\":\"object\",\"name\":\"UnionRenderers\",\"id\":\"p1484\"},\"data\":{\"type\":\"map\",\"entries\":[[\"index\",{\"type\":\"ndarray\",\"array\":{\"type\":\"bytes\",\"data\":\"yAAAAMkAAADKAAAAywAAAMwAAADNAAAAzgAAAM8AAADQAAAA0QAAANIAAADTAAAA1AAAANUAAADWAAAA1wAAANgAAADZAAAA2gAAANsAAADcAAAA3QAAAN4AAADfAAAA4AAAAOEAAADiAAAA4wAAAOQAAADlAAAA5gAAAOcAAADoAAAA6QAAAOoAAADrAAAA7AAAAO0AAADuAAAA7wAAAPAAAADxAAAA8gAAAPMAAAD0AAAA9QAAAPYAAAD3AAAA+AAAAPkAAAD6AAAA+wAAAPwAAAD9AAAA/gAAAP8AAAAAAQAAAQEAAAIBAAADAQAABAEAAAUBAAAGAQAABwEAAAgBAAAJAQAACgEAAAsBAAAMAQAADQEAAA4BAAAPAQAAEAEAABEBAAASAQAAEwEAABQBAAAVAQAAFgEAABcBAAAYAQAAGQEAABoBAAAbAQAAHAEAAB0BAAAeAQAAHwEAACABAAAhAQAAIgEAACMBAAAkAQAAJQEAACYBAAAnAQAAKAEAACkBAAAqAQAAKwEAACwBAAAtAQAALgEAAC8BAAAwAQAAMQEAADIBAAAzAQAANAEAADUBAAA2AQAANwEAADgBAAA5AQAAOgEAADsBAAA8AQAAPQEAAD4BAAA/AQAA\"},\"shape\":[120],\"dtype\":\"int32\",\"order\":\"little\"}],[\"price\",{\"type\":\"ndarray\",\"array\":{\"type\":\"bytes\",\"data\":\"3oCNanOoMkCvTH9cZ3wzQFO+TqYzWTJAkTjbLLesMkCq6aZvNSEzQDJ/eEmQ+DNAWuAPvfa8MkAWroKS2JszQAlL61jpBDNA0XyKLW52MkDQ0BX+fdgyQIJi6PTHujNACI5xu6TpM0D1/PafBgs1QMXk8CSLYTVAOIXi1wrDNEDI29gUOrU0QKBTBi3eKzVASU39zIHCNEA38QJVjBc1QMxOk0tHyjRAB1QR4NpQNUD73DjVaO81QEi8g6g3JjZAaa03uA4QN0ActSPEvXY3QL2MY4azvzZAL++JNgMiOUD+x+cUpF06QL1bVHXShjtAoBUOT6z6OkC+7QJ+lYQ8QCc5EoMw7zxAS4N0D9hcPUA6d+wh1Dw8QPvXLSib5jtAFpg/fComOkBJ5GimDl86QCRRBuz7dztAw4CVI7/NO0DOLw9Cs6c7QDcfJfxlWDxAvCXAHN19PUD74xsoVuk8QOkIJPfPuDtAVIzS0DCCO0AtC2jvvj48QMdtATUQgDxArJACPf1JO0Dy4skoSRU6QMuZ6/+qiTtAKeOmkv2QO0BR/yh3Kx07QCbk9lnSXztAgtedWpGtOkDC/vhjnOM5QNIy2pf4XjtAYaQcumU8PEAtmoIVNr88QOvJpF/oXDxAL2EikBHCPEDBcq/zlbA8QNg1il26wztACF3K5MpqOkA1Gmbzz1Q6QM0ZM6yPLDtASHRxecIcPECKcyRqYVo8QAASOEvDuztA0k2BCjzKOUB84Eyh/ag5QMgDjk273jdAyPWq4ZGpOUCTLemVJ6M6QKJysC2QSThAeBSp8KYVOEC0DpEjvD04QNQ8QD1WlTlAC7XV6dcaOEB+pJ27kN42QN6HOkVHNDhA4uFqg/JZOEATcIgQCEc4QESjxMHIETtABYT5YxryOkAMsF0PN7M6QGV/WqFNWTpAjBdAE5BTOkCSozczvIE6QN5DYkIUNjtAbaYVBOZFO0Bswaa1S3o9QC1Sk09Y1T1AmHU6S3qaPkCPpwFs0TNAQC+R//O990BA8VCuIpVXQUB6yjc5WhpBQGdH8KIdp0BAduKWot0pQUA2Qdcc9FRBQHKebRTf3EBAJFYOQPlSQEBzZfV7YxNAQBpHDLhqRUBA/vet2oarP0C+5gkMGto/QMKOjFMcfkBAkF7Yl55vP0B8f6LY90FAQHXmKu+xxEBArMBragqPQEA72VK5HqhAQDmiNoobOkBAzfEGxBJPQEAfKaQop4dAQGFE/+BYqUBA4oD7QTyzQEDSbcx2/NRAQGCEG5XL3EBA\"},\"shape\":[120],\"dtype\":\"float64\",\"order\":\"little\"}]]}}},\"view\":{\"type\":\"object\",\"name\":\"CDSView\",\"id\":\"p1492\",\"attributes\":{\"filter\":{\"type\":\"object\",\"name\":\"AllIndices\",\"id\":\"p1493\"}}},\"glyph\":{\"type\":\"object\",\"name\":\"Line\",\"id\":\"p1488\",\"attributes\":{\"tags\":[\"apply_ranges\"],\"x\":{\"type\":\"field\",\"field\":\"index\"},\"y\":{\"type\":\"field\",\"field\":\"price\"},\"line_color\":\"#30a2da\",\"line_width\":2}},\"selection_glyph\":{\"type\":\"object\",\"name\":\"Line\",\"id\":\"p1494\",\"attributes\":{\"tags\":[\"apply_ranges\"],\"x\":{\"type\":\"field\",\"field\":\"index\"},\"y\":{\"type\":\"field\",\"field\":\"price\"},\"line_color\":\"#30a2da\",\"line_width\":2}},\"nonselection_glyph\":{\"type\":\"object\",\"name\":\"Line\",\"id\":\"p1489\",\"attributes\":{\"tags\":[\"apply_ranges\"],\"x\":{\"type\":\"field\",\"field\":\"index\"},\"y\":{\"type\":\"field\",\"field\":\"price\"},\"line_color\":\"#30a2da\",\"line_alpha\":0.1,\"line_width\":2}},\"muted_glyph\":{\"type\":\"object\",\"name\":\"Line\",\"id\":\"p1490\",\"attributes\":{\"tags\":[\"apply_ranges\"],\"x\":{\"type\":\"field\",\"field\":\"index\"},\"y\":{\"type\":\"field\",\"field\":\"price\"},\"line_color\":\"#30a2da\",\"line_alpha\":0.2,\"line_width\":2}}}}],\"tooltips\":[[\"index\",\"@{index}\"],[\"price\",\"@{price}\"]]}},{\"type\":\"object\",\"name\":\"HoverTool\",\"id\":\"p1513\",\"attributes\":{\"tags\":[\"hv_created\"],\"renderers\":[{\"type\":\"object\",\"name\":\"GlyphRenderer\",\"id\":\"p1554\",\"attributes\":{\"data_source\":{\"type\":\"object\",\"name\":\"ColumnDataSource\",\"id\":\"p1545\",\"attributes\":{\"selected\":{\"type\":\"object\",\"name\":\"Selection\",\"id\":\"p1546\",\"attributes\":{\"indices\":[],\"line_indices\":[]}},\"selection_policy\":{\"type\":\"object\",\"name\":\"UnionRenderers\",\"id\":\"p1547\"},\"data\":{\"type\":\"map\",\"entries\":[[\"index\",{\"type\":\"ndarray\",\"array\":{\"type\":\"bytes\",\"data\":\"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\"},\"shape\":[240],\"dtype\":\"float64\",\"order\":\"little\"}],[\"volume\",{\"type\":\"ndarray\",\"array\":{\"type\":\"bytes\",\"data\":\"4AEAAOABAAD6AQAA+gEAAIMBAACDAQAArQIAAK0CAABzAQAAcwEAAOYDAADmAwAAuAIAALgCAABeAgAAXgIAAAQDAAAEAwAAHgAAAB4AAADoAQAA6AEAAMoBAADKAQAAHQEAAB0BAABsAAAAbAAAAL4AAAC+AAAA2QAAANkAAACZAgAAmQIAABwCAAAcAgAAEQAAABEAAAAAAAAAAAAAANoDAADaAwAAkQMAAJEDAAA4AwAAOAMAAFYDAABWAwAABAAAAAQAAAD4AAAA+AAAAAQDAAAEAwAAiwEAAIsBAAAcAgAAHAIAALQAAAC0AAAAWgMAAFoDAADPAgAAzwIAAJMCAACTAgAAaQAAAGkAAADPAwAAzwMAABEAAAARAAAApwIAAKcCAABZAAAAWQAAANICAADSAgAADgMAAA4DAACtAgAArQIAAHoAAAB6AAAALQMAAC0DAABJAAAASQAAAKsBAACrAQAALQIAAC0CAABEAQAARAEAADoCAAA6AgAAzAEAAMwBAADXAQAA1wEAANABAADQAQAAdQAAAHUAAADqAQAA6gEAAAUDAAAFAwAAPwMAAD8DAAC8AgAAvAIAAK4BAACuAQAAOAIAADgCAACYAAAAmAAAADoDAAA6AwAA4wEAAOMBAABcAwAAXAMAAIcAAACHAAAAhgAAAIYAAABuAwAAbgMAANoCAADaAgAAUQMAAFEDAADJAAAAyQAAAG4BAABuAQAAQAMAAEADAACQAQAAkAEAAHUCAAB1AgAA5QAAAOUAAADdAgAA3QIAAJEDAACRAwAAwwMAAMMDAADAAQAAwAEAAPEBAADxAQAAigIAAIoCAAAcAgAAHAIAAHMAAABzAAAAjgAAAI4AAABrAAAAawAAALkBAAC5AQAAAgIAAAICAADjAQAA4wEAAEoAAABKAAAA2wEAANsBAACsAwAArAMAAFsBAABbAQAAqQMAAKkDAACfAwAAnwMAALMDAACzAwAAFQIAABUCAAC7AwAAuwMAAH4BAAB+AQAAVgMAAFYDAAAQAQAAEAEAAEIBAABCAQAA1AEAANQBAAADAAAAAwAAAHUDAAB1AwAA6wIAAOsCAADsAQAA7AEAAL4AAAC+AAAAmgIAAJoCAAA4AQAAOAEAACUAAAAlAAAAUQEAAFEBAAD3AAAA9wAAAFQDAABUAwAApAMAAKQDAACMAAAAjAAAAMYBAADGAQAASwEAAEsBAABuAQAAbgEAAF4AAABeAAAAcQMAAHEDAADpAgAA6QIAAFABAABQAQAA\"},\"shape\":[240],\"dtype\":\"int32\",\"order\":\"little\"}]]}}},\"view\":{\"type\":\"object\",\"name\":\"CDSView\",\"id\":\"p1555\",\"attributes\":{\"filter\":{\"type\":\"object\",\"name\":\"AllIndices\",\"id\":\"p1556\"}}},\"glyph\":{\"type\":\"object\",\"name\":\"Line\",\"id\":\"p1551\",\"attributes\":{\"tags\":[\"apply_ranges\"],\"x\":{\"type\":\"field\",\"field\":\"index\"},\"y\":{\"type\":\"field\",\"field\":\"volume\"},\"line_color\":\"#30a2da\",\"line_width\":2}},\"selection_glyph\":{\"type\":\"object\",\"name\":\"Line\",\"id\":\"p1557\",\"attributes\":{\"tags\":[\"apply_ranges\"],\"x\":{\"type\":\"field\",\"field\":\"index\"},\"y\":{\"type\":\"field\",\"field\":\"volume\"},\"line_color\":\"#30a2da\",\"line_width\":2}},\"nonselection_glyph\":{\"type\":\"object\",\"name\":\"Line\",\"id\":\"p1552\",\"attributes\":{\"tags\":[\"apply_ranges\"],\"x\":{\"type\":\"field\",\"field\":\"index\"},\"y\":{\"type\":\"field\",\"field\":\"volume\"},\"line_color\":\"#30a2da\",\"line_alpha\":0.1,\"line_width\":2}},\"muted_glyph\":{\"type\":\"object\",\"name\":\"Line\",\"id\":\"p1553\",\"attributes\":{\"tags\":[\"apply_ranges\"],\"x\":{\"type\":\"field\",\"field\":\"index\"},\"y\":{\"type\":\"field\",\"field\":\"volume\"},\"line_color\":\"#30a2da\",\"line_alpha\":0.2,\"line_width\":2}}}}],\"tooltips\":[[\"index\",\"@{index}\"],[\"volume\",\"@{volume}\"]]}}]}},{\"type\":\"object\",\"name\":\"SaveTool\",\"id\":\"p1563\"},{\"type\":\"object\",\"name\":\"ToolProxy\",\"id\":\"p1564\",\"attributes\":{\"tools\":[{\"type\":\"object\",\"name\":\"PanTool\",\"id\":\"p1474\"},{\"type\":\"object\",\"name\":\"PanTool\",\"id\":\"p1537\"}]}},{\"type\":\"object\",\"name\":\"ToolProxy\",\"id\":\"p1565\",\"attributes\":{\"tools\":[{\"type\":\"object\",\"name\":\"BoxZoomTool\",\"id\":\"p1475\",\"attributes\":{\"overlay\":{\"type\":\"object\",\"name\":\"BoxAnnotation\",\"id\":\"p1476\",\"attributes\":{\"syncable\":false,\"level\":\"overlay\",\"visible\":false,\"left\":{\"type\":\"number\",\"value\":\"nan\"},\"right\":{\"type\":\"number\",\"value\":\"nan\"},\"top\":{\"type\":\"number\",\"value\":\"nan\"},\"bottom\":{\"type\":\"number\",\"value\":\"nan\"},\"left_units\":\"canvas\",\"right_units\":\"canvas\",\"top_units\":\"canvas\",\"bottom_units\":\"canvas\",\"line_color\":\"black\",\"line_alpha\":1.0,\"line_width\":2,\"line_dash\":[4,4],\"fill_color\":\"lightgrey\",\"fill_alpha\":0.5}}}},{\"type\":\"object\",\"name\":\"BoxZoomTool\",\"id\":\"p1538\",\"attributes\":{\"overlay\":{\"type\":\"object\",\"name\":\"BoxAnnotation\",\"id\":\"p1539\",\"attributes\":{\"syncable\":false,\"level\":\"overlay\",\"visible\":false,\"left\":{\"type\":\"number\",\"value\":\"nan\"},\"right\":{\"type\":\"number\",\"value\":\"nan\"},\"top\":{\"type\":\"number\",\"value\":\"nan\"},\"bottom\":{\"type\":\"number\",\"value\":\"nan\"},\"left_units\":\"canvas\",\"right_units\":\"canvas\",\"top_units\":\"canvas\",\"bottom_units\":\"canvas\",\"line_color\":\"black\",\"line_alpha\":1.0,\"line_width\":2,\"line_dash\":[4,4],\"fill_color\":\"lightgrey\",\"fill_alpha\":0.5}}}}]}},{\"type\":\"object\",\"name\":\"ToolProxy\",\"id\":\"p1566\",\"attributes\":{\"tools\":[{\"type\":\"object\",\"name\":\"ResetTool\",\"id\":\"p1481\"},{\"type\":\"object\",\"name\":\"ResetTool\",\"id\":\"p1544\"}]}}]}},\"children\":[[{\"type\":\"object\",\"name\":\"Figure\",\"id\":\"p1451\",\"attributes\":{\"width\":700,\"height\":400,\"sizing_mode\":\"fixed\",\"align\":\"start\",\"x_range\":{\"type\":\"object\",\"name\":\"Range1d\",\"id\":\"p1442\",\"attributes\":{\"tags\":[[[\"index\",\"index\",null]],[]],\"start\":200.0,\"end\":319.0,\"reset_start\":200.0,\"reset_end\":319.0}},\"y_range\":{\"type\":\"object\",\"name\":\"Range1d\",\"id\":\"p1443\",\"attributes\":{\"tags\":[[[\"price\",\"price\",null]],{\"type\":\"map\",\"entries\":[[\"invert_yaxis\",false],[\"autorange\",false]]}],\"start\":16.714864921698943,\"end\":36.31781819267693,\"reset_start\":16.714864921698943,\"reset_end\":36.31781819267693}},\"x_scale\":{\"type\":\"object\",\"name\":\"LinearScale\",\"id\":\"p1461\"},\"y_scale\":{\"type\":\"object\",\"name\":\"LinearScale\",\"id\":\"p1462\"},\"title\":{\"type\":\"object\",\"name\":\"Title\",\"id\":\"p1454\",\"attributes\":{\"text_color\":\"black\",\"text_font_size\":\"12pt\"}},\"renderers\":[{\"id\":\"p1491\"},{\"type\":\"object\",\"name\":\"GlyphRenderer\",\"id\":\"p1504\",\"attributes\":{\"data_source\":{\"type\":\"object\",\"name\":\"ColumnDataSource\",\"id\":\"p1495\",\"attributes\":{\"selected\":{\"type\":\"object\",\"name\":\"Selection\",\"id\":\"p1496\",\"attributes\":{\"indices\":[],\"line_indices\":[]}},\"selection_policy\":{\"type\":\"object\",\"name\":\"UnionRenderers\",\"id\":\"p1497\"},\"data\":{\"type\":\"map\",\"entries\":[[\"left\",{\"type\":\"ndarray\",\"array\":{\"type\":\"bytes\",\"data\":\"AAAAAAAAaUAAAAAAAABpQAAAAAAAAGlAAAAAAAAAaUAAAAAAAABpQAAAAAAAAGlAAAAAAAAAaUAAAAAAAABpQAAAAAAAAGlAAAAAAAAAaUAAAAAAAABpQAAAAAAAAGlAAAAAAAAAaUAAAAAAAABpQAAAAAAAAGlAAAAAAAAAaUAAAAAAAABpQAAAAAAAAGlAAAAAAAAAaUAAAAAAAABpQA==\"},\"shape\":[20],\"dtype\":\"float64\",\"order\":\"little\"}],[\"right\",{\"type\":\"ndarray\",\"array\":{\"type\":\"bytes\",\"data\":\"qZdASA4TcECPFI32sPJuQLIuKOkN7mxAP7qsUommbEAUddQ9k39sQLRgaLpevmtA3P+8mxHUakBRSdkei/VvQKyWiCLIK2xAPjVia/qOckBPUEvVCZ1zQG4sMtWkR3NA+MWaqx1Pc0C55SGptNhsQI7/x8tt+WpAUowgdXgcakBnIE+sbMRsQJTZaiNVLG9AAakarNxJckAQcNLSoCZtQA==\"},\"shape\":[20],\"dtype\":\"float64\",\"order\":\"little\"}],[\"bottom\",{\"type\":\"ndarray\",\"array\":{\"type\":\"bytes\",\"data\":\"U75OpjNZMkDnPNzHTCozQHu7aell+zNADzr3Cn/MNECjuIQsmJ01QDc3Ek6xbjZAyrWfb8o/N0BeNC2R4xA4QPKyurL84ThAhjFI1BWzOUAasNX1LoQ6QK4uYxdIVTtAQq3wOGEmPEDWK35aevc8QGqqC3yTyD1A/iiZnayZPkCSpya/xWo/QBMTWnDvHUBAXdIgAXyGQECnkeeRCO9AQA==\"},\"shape\":[20],\"dtype\":\"float64\",\"order\":\"little\"}],[\"top\",{\"type\":\"ndarray\",\"array\":{\"type\":\"bytes\",\"data\":\"5zzcx0wqM0B7u2npZfszQA869wp/zDRAo7iELJidNUA3NxJOsW42QMu1n2/KPzdAXjQtkeMQOEDysrqy/OE4QIYxSNQVszlAGrDV9S6EOkCuLmMXSFU7QEKt8DhhJjxA1it+Wnr3PEBqqgt8k8g9QP4omZ2smT5Akqcmv8VqP0ATE1pw7x1AQF3SIAF8hkBAp5HnkQjvQEDxUK4ilVdBQA==\"},\"shape\":[20],\"dtype\":\"float64\",\"order\":\"little\"}]]}}},\"view\":{\"type\":\"object\",\"name\":\"CDSView\",\"id\":\"p1505\",\"attributes\":{\"filter\":{\"type\":\"object\",\"name\":\"AllIndices\",\"id\":\"p1506\"}}},\"glyph\":{\"type\":\"object\",\"name\":\"Quad\",\"id\":\"p1501\",\"attributes\":{\"tags\":[\"apply_ranges\"],\"left\":{\"type\":\"field\",\"field\":\"left\"},\"right\":{\"type\":\"field\",\"field\":\"right\"},\"bottom\":{\"type\":\"field\",\"field\":\"bottom\"},\"top\":{\"type\":\"field\",\"field\":\"top\"},\"line_alpha\":{\"type\":\"value\",\"value\":0.5},\"fill_color\":{\"type\":\"value\",\"value\":\"#1f77b4\"},\"fill_alpha\":{\"type\":\"value\",\"value\":0.5},\"hatch_alpha\":{\"type\":\"value\",\"value\":0.5}}},\"selection_glyph\":{\"type\":\"object\",\"name\":\"Quad\",\"id\":\"p1507\",\"attributes\":{\"tags\":[\"apply_ranges\"],\"left\":{\"type\":\"field\",\"field\":\"left\"},\"right\":{\"type\":\"field\",\"field\":\"right\"},\"bottom\":{\"type\":\"field\",\"field\":\"bottom\"},\"top\":{\"type\":\"field\",\"field\":\"top\"},\"line_color\":{\"type\":\"value\",\"value\":\"black\"},\"line_alpha\":{\"type\":\"value\",\"value\":0.5},\"line_width\":{\"type\":\"value\",\"value\":1},\"line_join\":{\"type\":\"value\",\"value\":\"bevel\"},\"line_cap\":{\"type\":\"value\",\"value\":\"butt\"},\"line_dash\":{\"type\":\"value\",\"value\":[]},\"line_dash_offset\":{\"type\":\"value\",\"value\":0},\"fill_color\":{\"type\":\"value\",\"value\":\"#1f77b4\"},\"fill_alpha\":{\"type\":\"value\",\"value\":0.5},\"hatch_color\":{\"type\":\"value\",\"value\":\"black\"},\"hatch_alpha\":{\"type\":\"value\",\"value\":0.5},\"hatch_scale\":{\"type\":\"value\",\"value\":12.0},\"hatch_pattern\":{\"type\":\"value\",\"value\":null},\"hatch_weight\":{\"type\":\"value\",\"value\":1.0}}},\"nonselection_glyph\":{\"type\":\"object\",\"name\":\"Quad\",\"id\":\"p1502\",\"attributes\":{\"tags\":[\"apply_ranges\"],\"left\":{\"type\":\"field\",\"field\":\"left\"},\"right\":{\"type\":\"field\",\"field\":\"right\"},\"bottom\":{\"type\":\"field\",\"field\":\"bottom\"},\"top\":{\"type\":\"field\",\"field\":\"top\"},\"line_alpha\":{\"type\":\"value\",\"value\":0.5},\"fill_color\":{\"type\":\"value\",\"value\":\"#1f77b4\"},\"fill_alpha\":{\"type\":\"value\",\"value\":0.5},\"hatch_alpha\":{\"type\":\"value\",\"value\":0.1}}},\"muted_glyph\":{\"type\":\"object\",\"name\":\"Quad\",\"id\":\"p1503\",\"attributes\":{\"tags\":[\"apply_ranges\"],\"left\":{\"type\":\"field\",\"field\":\"left\"},\"right\":{\"type\":\"field\",\"field\":\"right\"},\"bottom\":{\"type\":\"field\",\"field\":\"bottom\"},\"top\":{\"type\":\"field\",\"field\":\"top\"},\"line_alpha\":{\"type\":\"value\",\"value\":0.5},\"fill_color\":{\"type\":\"value\",\"value\":\"#1f77b4\"},\"fill_alpha\":{\"type\":\"value\",\"value\":0.5},\"hatch_alpha\":{\"type\":\"value\",\"value\":0.2}}}}}],\"toolbar\":{\"type\":\"object\",\"name\":\"Toolbar\",\"id\":\"p1460\",\"attributes\":{\"tools\":[{\"id\":\"p1447\"},{\"id\":\"p1448\"},{\"type\":\"object\",\"name\":\"SaveTool\",\"id\":\"p1473\"},{\"id\":\"p1474\"},{\"id\":\"p1475\"},{\"id\":\"p1481\"}],\"active_drag\":{\"id\":\"p1474\"},\"active_scroll\":{\"id\":\"p1447\"}}},\"toolbar_location\":null,\"left\":[{\"type\":\"object\",\"name\":\"LinearAxis\",\"id\":\"p1468\",\"attributes\":{\"ticker\":{\"type\":\"object\",\"name\":\"BasicTicker\",\"id\":\"p1469\",\"attributes\":{\"mantissas\":[1,2,5]}},\"formatter\":{\"type\":\"object\",\"name\":\"BasicTickFormatter\",\"id\":\"p1470\"},\"axis_label\":\"price\",\"major_label_policy\":{\"type\":\"object\",\"name\":\"AllLabels\",\"id\":\"p1471\"}}}],\"below\":[{\"type\":\"object\",\"name\":\"LinearAxis\",\"id\":\"p1463\",\"attributes\":{\"ticker\":{\"type\":\"object\",\"name\":\"BasicTicker\",\"id\":\"p1464\",\"attributes\":{\"mantissas\":[1,2,5]}},\"formatter\":{\"type\":\"object\",\"name\":\"BasicTickFormatter\",\"id\":\"p1465\"},\"axis_label\":\"\",\"major_label_policy\":{\"type\":\"object\",\"name\":\"AllLabels\",\"id\":\"p1466\"}}}],\"center\":[{\"type\":\"object\",\"name\":\"Grid\",\"id\":\"p1467\",\"attributes\":{\"axis\":{\"id\":\"p1463\"},\"grid_line_color\":null}},{\"type\":\"object\",\"name\":\"Grid\",\"id\":\"p1472\",\"attributes\":{\"dimension\":1,\"axis\":{\"id\":\"p1468\"},\"grid_line_color\":null}}],\"min_border_top\":10,\"min_border_bottom\":10,\"min_border_left\":10,\"min_border_right\":10,\"output_backend\":\"webgl\"}},0,0],[{\"type\":\"object\",\"name\":\"Figure\",\"id\":\"p1514\",\"attributes\":{\"width\":700,\"height\":200,\"sizing_mode\":\"fixed\",\"align\":\"start\",\"x_range\":{\"id\":\"p1442\"},\"y_range\":{\"type\":\"object\",\"name\":\"Range1d\",\"id\":\"p1508\",\"attributes\":{\"tags\":[[[\"volume\",\"volume\",null]],{\"type\":\"map\",\"entries\":[[\"invert_yaxis\",false],[\"autorange\",false]]}],\"start\":-99.80000000000001,\"end\":1097.8,\"reset_start\":-99.80000000000001,\"reset_end\":1097.8}},\"x_scale\":{\"type\":\"object\",\"name\":\"LinearScale\",\"id\":\"p1524\"},\"y_scale\":{\"type\":\"object\",\"name\":\"LinearScale\",\"id\":\"p1525\"},\"title\":{\"type\":\"object\",\"name\":\"Title\",\"id\":\"p1517\",\"attributes\":{\"text_color\":\"black\",\"text_font_size\":\"12pt\"}},\"renderers\":[{\"id\":\"p1554\"}],\"toolbar\":{\"type\":\"object\",\"name\":\"Toolbar\",\"id\":\"p1523\",\"attributes\":{\"tools\":[{\"id\":\"p1512\"},{\"id\":\"p1513\"},{\"type\":\"object\",\"name\":\"SaveTool\",\"id\":\"p1536\"},{\"id\":\"p1537\"},{\"id\":\"p1538\"},{\"id\":\"p1544\"}],\"active_drag\":{\"id\":\"p1537\"},\"active_scroll\":{\"id\":\"p1512\"}}},\"toolbar_location\":null,\"left\":[{\"type\":\"object\",\"name\":\"LinearAxis\",\"id\":\"p1531\",\"attributes\":{\"ticker\":{\"type\":\"object\",\"name\":\"BasicTicker\",\"id\":\"p1532\",\"attributes\":{\"mantissas\":[1,2,5]}},\"formatter\":{\"type\":\"object\",\"name\":\"BasicTickFormatter\",\"id\":\"p1533\"},\"axis_label\":\"volume\",\"major_label_policy\":{\"type\":\"object\",\"name\":\"AllLabels\",\"id\":\"p1534\"}}}],\"below\":[{\"type\":\"object\",\"name\":\"LinearAxis\",\"id\":\"p1526\",\"attributes\":{\"ticker\":{\"type\":\"object\",\"name\":\"BasicTicker\",\"id\":\"p1527\",\"attributes\":{\"mantissas\":[1,2,5]}},\"formatter\":{\"type\":\"object\",\"name\":\"BasicTickFormatter\",\"id\":\"p1528\"},\"axis_label\":\"\",\"major_label_policy\":{\"type\":\"object\",\"name\":\"AllLabels\",\"id\":\"p1529\"}}}],\"center\":[{\"type\":\"object\",\"name\":\"Grid\",\"id\":\"p1530\",\"attributes\":{\"axis\":{\"id\":\"p1526\"},\"grid_line_color\":null}},{\"type\":\"object\",\"name\":\"Grid\",\"id\":\"p1535\",\"attributes\":{\"dimension\":1,\"axis\":{\"id\":\"p1531\"},\"grid_line_color\":null}}],\"min_border_top\":10,\"min_border_bottom\":10,\"min_border_left\":10,\"min_border_right\":10,\"output_backend\":\"webgl\"}},1,0]]}},{\"type\":\"object\",\"name\":\"Spacer\",\"id\":\"p1569\",\"attributes\":{\"name\":\"HSpacer02028\",\"stylesheets\":[\"\\n:host(.pn-loading):before, .pn-loading:before {\\n  background-color: #c3c3c3;\\n  mask-size: auto calc(min(50%, 400px));\\n  -webkit-mask-size: auto calc(min(50%, 400px));\\n}\",{\"id\":\"p1440\"},{\"id\":\"p1438\"},{\"id\":\"p1439\"}],\"margin\":0,\"sizing_mode\":\"stretch_width\",\"align\":\"start\"}}]}}],\"defs\":[{\"type\":\"model\",\"name\":\"ReactiveHTML1\"},{\"type\":\"model\",\"name\":\"FlexBox1\",\"properties\":[{\"name\":\"align_content\",\"kind\":\"Any\",\"default\":\"flex-start\"},{\"name\":\"align_items\",\"kind\":\"Any\",\"default\":\"flex-start\"},{\"name\":\"flex_direction\",\"kind\":\"Any\",\"default\":\"row\"},{\"name\":\"flex_wrap\",\"kind\":\"Any\",\"default\":\"wrap\"},{\"name\":\"gap\",\"kind\":\"Any\",\"default\":\"\"},{\"name\":\"justify_content\",\"kind\":\"Any\",\"default\":\"flex-start\"}]},{\"type\":\"model\",\"name\":\"FloatPanel1\",\"properties\":[{\"name\":\"config\",\"kind\":\"Any\",\"default\":{\"type\":\"map\"}},{\"name\":\"contained\",\"kind\":\"Any\",\"default\":true},{\"name\":\"position\",\"kind\":\"Any\",\"default\":\"right-top\"},{\"name\":\"offsetx\",\"kind\":\"Any\",\"default\":null},{\"name\":\"offsety\",\"kind\":\"Any\",\"default\":null},{\"name\":\"theme\",\"kind\":\"Any\",\"default\":\"primary\"},{\"name\":\"status\",\"kind\":\"Any\",\"default\":\"normalized\"}]},{\"type\":\"model\",\"name\":\"GridStack1\",\"properties\":[{\"name\":\"mode\",\"kind\":\"Any\",\"default\":\"warn\"},{\"name\":\"ncols\",\"kind\":\"Any\",\"default\":null},{\"name\":\"nrows\",\"kind\":\"Any\",\"default\":null},{\"name\":\"allow_resize\",\"kind\":\"Any\",\"default\":true},{\"name\":\"allow_drag\",\"kind\":\"Any\",\"default\":true},{\"name\":\"state\",\"kind\":\"Any\",\"default\":[]}]},{\"type\":\"model\",\"name\":\"drag1\",\"properties\":[{\"name\":\"slider_width\",\"kind\":\"Any\",\"default\":5},{\"name\":\"slider_color\",\"kind\":\"Any\",\"default\":\"black\"},{\"name\":\"value\",\"kind\":\"Any\",\"default\":50}]},{\"type\":\"model\",\"name\":\"click1\",\"properties\":[{\"name\":\"terminal_output\",\"kind\":\"Any\",\"default\":\"\"},{\"name\":\"debug_name\",\"kind\":\"Any\",\"default\":\"\"},{\"name\":\"clears\",\"kind\":\"Any\",\"default\":0}]},{\"type\":\"model\",\"name\":\"FastWrapper1\",\"properties\":[{\"name\":\"object\",\"kind\":\"Any\",\"default\":null},{\"name\":\"style\",\"kind\":\"Any\",\"default\":null}]},{\"type\":\"model\",\"name\":\"NotificationAreaBase1\",\"properties\":[{\"name\":\"js_events\",\"kind\":\"Any\",\"default\":{\"type\":\"map\"}},{\"name\":\"position\",\"kind\":\"Any\",\"default\":\"bottom-right\"},{\"name\":\"_clear\",\"kind\":\"Any\",\"default\":0}]},{\"type\":\"model\",\"name\":\"NotificationArea1\",\"properties\":[{\"name\":\"js_events\",\"kind\":\"Any\",\"default\":{\"type\":\"map\"}},{\"name\":\"notifications\",\"kind\":\"Any\",\"default\":[]},{\"name\":\"position\",\"kind\":\"Any\",\"default\":\"bottom-right\"},{\"name\":\"_clear\",\"kind\":\"Any\",\"default\":0},{\"name\":\"types\",\"kind\":\"Any\",\"default\":[{\"type\":\"map\",\"entries\":[[\"type\",\"warning\"],[\"background\",\"#ffc107\"],[\"icon\",{\"type\":\"map\",\"entries\":[[\"className\",\"fas fa-exclamation-triangle\"],[\"tagName\",\"i\"],[\"color\",\"white\"]]}]]},{\"type\":\"map\",\"entries\":[[\"type\",\"info\"],[\"background\",\"#007bff\"],[\"icon\",{\"type\":\"map\",\"entries\":[[\"className\",\"fas fa-info-circle\"],[\"tagName\",\"i\"],[\"color\",\"white\"]]}]]}]}]},{\"type\":\"model\",\"name\":\"Notification\",\"properties\":[{\"name\":\"background\",\"kind\":\"Any\",\"default\":null},{\"name\":\"duration\",\"kind\":\"Any\",\"default\":3000},{\"name\":\"icon\",\"kind\":\"Any\",\"default\":null},{\"name\":\"message\",\"kind\":\"Any\",\"default\":\"\"},{\"name\":\"notification_type\",\"kind\":\"Any\",\"default\":null},{\"name\":\"_destroyed\",\"kind\":\"Any\",\"default\":false}]},{\"type\":\"model\",\"name\":\"TemplateActions1\",\"properties\":[{\"name\":\"open_modal\",\"kind\":\"Any\",\"default\":0},{\"name\":\"close_modal\",\"kind\":\"Any\",\"default\":0}]},{\"type\":\"model\",\"name\":\"BootstrapTemplateActions1\",\"properties\":[{\"name\":\"open_modal\",\"kind\":\"Any\",\"default\":0},{\"name\":\"close_modal\",\"kind\":\"Any\",\"default\":0}]},{\"type\":\"model\",\"name\":\"TemplateEditor1\",\"properties\":[{\"name\":\"layout\",\"kind\":\"Any\",\"default\":[]}]},{\"type\":\"model\",\"name\":\"MaterialTemplateActions1\",\"properties\":[{\"name\":\"open_modal\",\"kind\":\"Any\",\"default\":0},{\"name\":\"close_modal\",\"kind\":\"Any\",\"default\":0}]},{\"type\":\"model\",\"name\":\"copy_to_clipboard1\",\"properties\":[{\"name\":\"fill\",\"kind\":\"Any\",\"default\":\"none\"},{\"name\":\"value\",\"kind\":\"Any\",\"default\":null}]}]}};\n",
       "  var render_items = [{\"docid\":\"36bb698f-3a59-4d63-9cbc-3e9ec6943a63\",\"roots\":{\"p1437\":\"ebbdc465-0ca5-49d5-86bf-905b5aff261e\"},\"root_ids\":[\"p1437\"]}];\n",
       "  var docs = Object.values(docs_json)\n",
       "  if (!docs) {\n",
       "    return\n",
       "  }\n",
       "  const py_version = docs[0].version.replace('rc', '-rc.').replace('.dev', '-dev.')\n",
       "  async function embed_document(root) {\n",
       "    var Bokeh = get_bokeh(root)\n",
       "    await Bokeh.embed.embed_items_notebook(docs_json, render_items);\n",
       "    for (const render_item of render_items) {\n",
       "      for (const root_id of render_item.root_ids) {\n",
       "\tconst id_el = document.getElementById(root_id)\n",
       "\tif (id_el.children.length && id_el.children[0].hasAttribute('data-root-id')) {\n",
       "\t  const root_el = id_el.children[0]\n",
       "\t  root_el.id = root_el.id + '-rendered'\n",
       "\t  for (const child of root_el.children) {\n",
       "            // Ensure JupyterLab does not capture keyboard shortcuts\n",
       "            // see: https://jupyterlab.readthedocs.io/en/4.1.x/extension/notebook.html#keyboard-interaction-model\n",
       "\t    child.setAttribute('data-lm-suppress-shortcuts', 'true')\n",
       "\t  }\n",
       "\t}\n",
       "      }\n",
       "    }\n",
       "  }\n",
       "  function get_bokeh(root) {\n",
       "    if (root.Bokeh === undefined) {\n",
       "      return null\n",
       "    } else if (root.Bokeh.version !== py_version) {\n",
       "      if (root.Bokeh.versions === undefined || !root.Bokeh.versions.has(py_version)) {\n",
       "\treturn null\n",
       "      }\n",
       "      return root.Bokeh.versions.get(py_version);\n",
       "    } else if (root.Bokeh.version === py_version) {\n",
       "      return root.Bokeh\n",
       "    }\n",
       "    return null\n",
       "  }\n",
       "  function is_loaded(root) {\n",
       "    var Bokeh = get_bokeh(root)\n",
       "    return (Bokeh != null && Bokeh.Panel !== undefined)\n",
       "  }\n",
       "  if (is_loaded(root)) {\n",
       "    embed_document(root);\n",
       "  } else {\n",
       "    var attempts = 0;\n",
       "    var timer = setInterval(function(root) {\n",
       "      if (is_loaded(root)) {\n",
       "        clearInterval(timer);\n",
       "        embed_document(root);\n",
       "      } else if (document.readyState == \"complete\") {\n",
       "        attempts++;\n",
       "        if (attempts > 200) {\n",
       "          clearInterval(timer);\n",
       "\t  var Bokeh = get_bokeh(root)\n",
       "\t  if (Bokeh == null || Bokeh.Panel == null) {\n",
       "            console.warn(\"Panel: ERROR: Unable to run Panel code because Bokeh or Panel library is missing\");\n",
       "\t  } else {\n",
       "\t    console.warn(\"Panel: WARNING: Attempting to render but not all required libraries could be resolved.\")\n",
       "\t    embed_document(root)\n",
       "\t  }\n",
       "        }\n",
       "      }\n",
       "    }, 25, root)\n",
       "  }\n",
       "})(window);</script>"
      ],
      "text/plain": [
       ":Layout\n",
       "   .Overlay.I :Overlay\n",
       "      .Curve.I      :Curve   [index]   (price)\n",
       "      .Rectangles.I :Rectangles   [x0,y0,x1,y1]\n",
       "   .Curve.I   :Curve   [index]   (volume)"
      ]
     },
     "execution_count": 15,
     "metadata": {
      "application/vnd.holoviews_exec.v0+json": {
       "id": "p1437"
      }
     },
     "output_type": "execute_result"
    }
   ],
   "source": [
    "i = 200\n",
    "df_pbv = df.slice(i+w, 1).select(\n",
    "    pl.col(\"pbv\").struct.field(\"price\").list.explode(),\n",
    "    pl.col(\"pbv\").struct.field(\"volume\").list.explode() * n,\n",
    ")\n",
    "pbv_data = df_pbv.to_dicts()\n",
    "step = pbv_data[1][\"price\"] - pbv_data[0][\"price\"]\n",
    "pbv_v_max = df_pbv[\"volume\"].max()\n",
    "((df.slice(i, w).plot.line(x=\"index\", y=\"price\", height=400) * \n",
    "  hv.Rectangles([[i, r[\"price\"], i + r[\"volume\"], r[\"price\"] + step] for r in pbv_data], ).opts(alpha=0.5)\n",
    " ) + df.slice(i, w).plot.step(x=\"index\", y=\"volume\", height=200)).cols(1)"
   ]
  },
  {
   "cell_type": "code",
   "execution_count": 17,
   "id": "26bff3a0-402c-4dac-9be0-f9655124694a",
   "metadata": {},
   "outputs": [],
   "source": [
    "def plot_pbv(i):\n",
    "    print(f\"use {i}\")\n",
    "    df_pbv = df.slice(i+w, 1).select(\n",
    "        pl.col(\"pbv\").struct.field(\"price\").list.explode(),\n",
    "        pl.col(\"pbv\").struct.field(\"volume\").list.explode() * n,\n",
    "    )\n",
    "    pbv_data = df_pbv.to_dicts()\n",
    "    step = pbv_data[1][\"price\"] - pbv_data[0][\"price\"]\n",
    "    pbv_v_max = df_pbv[\"volume\"].max()\n",
    "    return ((df.slice(i, w).plot.line(x=\"index\", y=\"price\", height=400) * \n",
    "      hv.Rectangles([[i, r[\"price\"], i + r[\"volume\"], r[\"price\"] + step] for r in pbv_data], ).opts(alpha=0.5)\n",
    "     ) + df.slice(i, w).plot.step(x=\"index\", y=\"volume\", height=200)).cols(1)"
   ]
  },
  {
   "cell_type": "code",
   "execution_count": null,
   "id": "3f094b3b-4fd2-40ec-9370-373d0187725d",
   "metadata": {},
   "outputs": [],
   "source": []
  },
  {
   "cell_type": "code",
   "execution_count": 18,
   "id": "a99df227-cc7a-4313-8f46-4b3d60dec969",
   "metadata": {},
   "outputs": [],
   "source": [
    "slider = pn.widgets.IntSlider(name='time', start=w, end=n, step=10)"
   ]
  },
  {
   "cell_type": "code",
   "execution_count": 19,
   "id": "590f2884-174d-4a46-a013-790723e9f1eb",
   "metadata": {},
   "outputs": [],
   "source": [
    "pbv_plot_interactive = hvplot.bind(plot_pbv, i=slider)"
   ]
  },
  {
   "cell_type": "code",
   "execution_count": 20,
   "id": "2a990d62-4a46-460a-a2c2-6a3ff33d5b7b",
   "metadata": {},
   "outputs": [
    {
     "name": "stdout",
     "output_type": "stream",
     "text": [
      "use 120\n"
     ]
    },
    {
     "data": {},
     "metadata": {},
     "output_type": "display_data"
    },
    {
     "data": {},
     "metadata": {},
     "output_type": "display_data"
    },
    {
     "data": {
      "application/vnd.holoviews_exec.v0+json": "",
      "text/html": [
       "<div id='p1725'>\n",
       "  <div id=\"fe4f32f5-9221-4109-9196-3f924c9088e6\" data-root-id=\"p1725\" style=\"display: contents;\"></div>\n",
       "</div>\n",
       "<script type=\"application/javascript\">(function(root) {\n",
       "  var docs_json = {\"94652ef6-b2a4-47dc-8830-1f1d30621124\":{\"version\":\"3.4.1\",\"title\":\"Bokeh Application\",\"roots\":[{\"type\":\"object\",\"name\":\"panel.models.layout.Column\",\"id\":\"p1725\",\"attributes\":{\"name\":\"Column02734\",\"stylesheets\":[\"\\n:host(.pn-loading):before, .pn-loading:before {\\n  background-color: #c3c3c3;\\n  mask-size: auto calc(min(50%, 400px));\\n  -webkit-mask-size: auto calc(min(50%, 400px));\\n}\",{\"type\":\"object\",\"name\":\"ImportedStyleSheet\",\"id\":\"p1728\",\"attributes\":{\"url\":\"https://cdn.holoviz.org/panel/1.4.4/dist/css/loading.css\"}},{\"type\":\"object\",\"name\":\"ImportedStyleSheet\",\"id\":\"p1858\",\"attributes\":{\"url\":\"https://cdn.holoviz.org/panel/1.4.4/dist/css/listpanel.css\"}},{\"type\":\"object\",\"name\":\"ImportedStyleSheet\",\"id\":\"p1726\",\"attributes\":{\"url\":\"https://cdn.holoviz.org/panel/1.4.4/dist/bundled/theme/default.css\"}},{\"type\":\"object\",\"name\":\"ImportedStyleSheet\",\"id\":\"p1727\",\"attributes\":{\"url\":\"https://cdn.holoviz.org/panel/1.4.4/dist/bundled/theme/native.css\"}}],\"margin\":0,\"align\":\"start\",\"children\":[{\"type\":\"object\",\"name\":\"Slider\",\"id\":\"p1729\",\"attributes\":{\"stylesheets\":[\"\\n:host(.pn-loading):before, .pn-loading:before {\\n  background-color: #c3c3c3;\\n  mask-size: auto calc(min(50%, 400px));\\n  -webkit-mask-size: auto calc(min(50%, 400px));\\n}\",{\"id\":\"p1728\"},{\"id\":\"p1726\"},{\"id\":\"p1727\"}],\"margin\":[5,10],\"align\":\"start\",\"title\":\"time\",\"start\":120,\"end\":1000,\"value\":120,\"step\":10}},{\"type\":\"object\",\"name\":\"panel.models.layout.Column\",\"id\":\"p1730\",\"attributes\":{\"name\":\"Column02524\",\"stylesheets\":[\"\\n:host(.pn-loading):before, .pn-loading:before {\\n  background-color: #c3c3c3;\\n  mask-size: auto calc(min(50%, 400px));\\n  -webkit-mask-size: auto calc(min(50%, 400px));\\n}\",{\"id\":\"p1728\"},{\"id\":\"p1858\"},{\"id\":\"p1726\"},{\"id\":\"p1727\"}],\"margin\":0,\"align\":\"start\",\"children\":[{\"type\":\"object\",\"name\":\"GridPlot\",\"id\":\"p1848\",\"attributes\":{\"rows\":null,\"cols\":null,\"name\":\"ParamFunction02520\",\"toolbar\":{\"type\":\"object\",\"name\":\"Toolbar\",\"id\":\"p1856\",\"attributes\":{\"tools\":[{\"type\":\"object\",\"name\":\"ToolProxy\",\"id\":\"p1850\",\"attributes\":{\"tools\":[{\"type\":\"object\",\"name\":\"WheelZoomTool\",\"id\":\"p1736\",\"attributes\":{\"tags\":[\"hv_created\"],\"renderers\":\"auto\",\"zoom_together\":\"none\"}},{\"type\":\"object\",\"name\":\"WheelZoomTool\",\"id\":\"p1801\",\"attributes\":{\"tags\":[\"hv_created\"],\"renderers\":\"auto\",\"zoom_together\":\"none\"}}]}},{\"type\":\"object\",\"name\":\"ToolProxy\",\"id\":\"p1851\",\"attributes\":{\"tools\":[{\"type\":\"object\",\"name\":\"HoverTool\",\"id\":\"p1737\",\"attributes\":{\"tags\":[\"hv_created\"],\"renderers\":[{\"type\":\"object\",\"name\":\"GlyphRenderer\",\"id\":\"p1780\",\"attributes\":{\"data_source\":{\"type\":\"object\",\"name\":\"ColumnDataSource\",\"id\":\"p1771\",\"attributes\":{\"selected\":{\"type\":\"object\",\"name\":\"Selection\",\"id\":\"p1772\",\"attributes\":{\"indices\":[],\"line_indices\":[]}},\"selection_policy\":{\"type\":\"object\",\"name\":\"UnionRenderers\",\"id\":\"p1773\"},\"data\":{\"type\":\"map\",\"entries\":[[\"index\",{\"type\":\"ndarray\",\"array\":{\"type\":\"bytes\",\"data\":\"eAAAAHkAAAB6AAAAewAAAHwAAAB9AAAAfgAAAH8AAACAAAAAgQAAAIIAAACDAAAAhAAAAIUAAACGAAAAhwAAAIgAAACJAAAAigAAAIsAAACMAAAAjQAAAI4AAACPAAAAkAAAAJEAAACSAAAAkwAAAJQAAACVAAAAlgAAAJcAAACYAAAAmQAAAJoAAACbAAAAnAAAAJ0AAACeAAAAnwAAAKAAAAChAAAAogAAAKMAAACkAAAApQAAAKYAAACnAAAAqAAAAKkAAACqAAAAqwAAAKwAAACtAAAArgAAAK8AAACwAAAAsQAAALIAAACzAAAAtAAAALUAAAC2AAAAtwAAALgAAAC5AAAAugAAALsAAAC8AAAAvQAAAL4AAAC/AAAAwAAAAMEAAADCAAAAwwAAAMQAAADFAAAAxgAAAMcAAADIAAAAyQAAAMoAAADLAAAAzAAAAM0AAADOAAAAzwAAANAAAADRAAAA0gAAANMAAADUAAAA1QAAANYAAADXAAAA2AAAANkAAADaAAAA2wAAANwAAADdAAAA3gAAAN8AAADgAAAA4QAAAOIAAADjAAAA5AAAAOUAAADmAAAA5wAAAOgAAADpAAAA6gAAAOsAAADsAAAA7QAAAO4AAADvAAAA\"},\"shape\":[120],\"dtype\":\"int32\",\"order\":\"little\"}],[\"price\",{\"type\":\"ndarray\",\"array\":{\"type\":\"bytes\",\"data\":\"Uxk/JKowIkCfU4czA+8iQPKzyt2CcyNAIbxafbzmIkAwdklQJgAjQHIG8jZwySFAsirM0c9LH0B8LfVuYJscQMZuViKFrRNAko3w6YVHEkDhnInpkJ8UQFcqszqB2hRAUpbPfXbdFUCGYKknJXMWQPCjCDMimxNAUYVMYdrwEEBCPjJ9xYsBQIyJ7XbSZvk/zpp90jXcEED42T2vgJgSQIFFjPbUTRZAqU60hTo5GkBsul6S3KAYQH/YcAPw5BZAnAfpzn9lHkDwG+fdvfIYQKXZXg0+YR9Aq95fUS/AIEDpl6yd3IQeQIh/peV4LRlAbcEr0kKsGUCyJEvCFnIdQBnoEMxnDRlAqkgEtPuzGEDemsDiGZwdQOqoXh+SzR1A3cm86yY7I0Bv7PdWGFYlQHu9V1LVvyZAslqHRuN8KECFelSQkNIoQMsEREhRJilAAWH+1WbCJ0CBS/i5l+klQFyfPbyi/iVAqF0uqgVxKUCyKa9yUakuQO5VmVdgozBAZibbFareMED0B0Q2DUkxQMhudBf1GzFAsKCrFAm9MUBZItVfqAQxQGxewCdCCDFAFcTALPxxMUC3h+hyVmwxQB3qLzsewjFAWvQ5lUgxMUAOJmndKagxQNdD+nDcNDFAZBE9Rim1MECEQS0VzcMuQDavbTAqGS9AasCvClByLUBzUd/nQmMvQC+aLNGmAzBAafRPan+5L0AzoSpVv/IwQAlJNBasIi5A3y7kmN0vLkDPLtGtAbEtQGtssTG1FS1A83/3BXk5LkDMpswex6UtQKUsMawf7ypA6pgDzDEXLUBO49jk/JUsQJxnbhyq6C5AZAXo6uSRMEB/9w+vltMyQN6AjWpzqDJAr0x/XGd8M0BTvk6mM1kyQJE42yy3rDJAqummbzUhM0Ayf3hJkPgzQFrgD732vDJAFq6CktibM0AJS+tY6QQzQNF8ii1udjJA0NAV/n3YMkCCYuj0x7ozQAiOcbuk6TNA9fz2nwYLNUDF5PAki2E1QDiF4tcKwzRAyNvYFDq1NECgUwYt3is1QElN/cyBwjRAN/ECVYwXNUDMTpNLR8o0QAdUEeDaUDVA+9w41WjvNUBIvIOoNyY2QGmtN7gOEDdAHLUjxL12N0C9jGOGs782QC/viTYDIjlA/sfnFKRdOkC9W1R10oY7QKAVDk+s+jpAvu0CfpWEPEAnORKDMO88QEuDdA/YXD1AOnfsIdQ8PED71y0om+Y7QBaYP3wqJjpASeRopg5fOkAkUQbs+3c7QMOAlSO/zTtA\"},\"shape\":[120],\"dtype\":\"float64\",\"order\":\"little\"}]]}}},\"view\":{\"type\":\"object\",\"name\":\"CDSView\",\"id\":\"p1781\",\"attributes\":{\"filter\":{\"type\":\"object\",\"name\":\"AllIndices\",\"id\":\"p1782\"}}},\"glyph\":{\"type\":\"object\",\"name\":\"Line\",\"id\":\"p1777\",\"attributes\":{\"tags\":[\"apply_ranges\"],\"x\":{\"type\":\"field\",\"field\":\"index\"},\"y\":{\"type\":\"field\",\"field\":\"price\"},\"line_color\":\"#30a2da\",\"line_width\":2}},\"selection_glyph\":{\"type\":\"object\",\"name\":\"Line\",\"id\":\"p1783\",\"attributes\":{\"tags\":[\"apply_ranges\"],\"x\":{\"type\":\"field\",\"field\":\"index\"},\"y\":{\"type\":\"field\",\"field\":\"price\"},\"line_color\":\"#30a2da\",\"line_width\":2}},\"nonselection_glyph\":{\"type\":\"object\",\"name\":\"Line\",\"id\":\"p1778\",\"attributes\":{\"tags\":[\"apply_ranges\"],\"x\":{\"type\":\"field\",\"field\":\"index\"},\"y\":{\"type\":\"field\",\"field\":\"price\"},\"line_color\":\"#30a2da\",\"line_alpha\":0.1,\"line_width\":2}},\"muted_glyph\":{\"type\":\"object\",\"name\":\"Line\",\"id\":\"p1779\",\"attributes\":{\"tags\":[\"apply_ranges\"],\"x\":{\"type\":\"field\",\"field\":\"index\"},\"y\":{\"type\":\"field\",\"field\":\"price\"},\"line_color\":\"#30a2da\",\"line_alpha\":0.2,\"line_width\":2}}}}],\"tooltips\":[[\"index\",\"@{index}\"],[\"price\",\"@{price}\"]]}},{\"type\":\"object\",\"name\":\"HoverTool\",\"id\":\"p1802\",\"attributes\":{\"tags\":[\"hv_created\"],\"renderers\":[{\"type\":\"object\",\"name\":\"GlyphRenderer\",\"id\":\"p1843\",\"attributes\":{\"data_source\":{\"type\":\"object\",\"name\":\"ColumnDataSource\",\"id\":\"p1834\",\"attributes\":{\"selected\":{\"type\":\"object\",\"name\":\"Selection\",\"id\":\"p1835\",\"attributes\":{\"indices\":[],\"line_indices\":[]}},\"selection_policy\":{\"type\":\"object\",\"name\":\"UnionRenderers\",\"id\":\"p1836\"},\"data\":{\"type\":\"map\",\"entries\":[[\"index\",{\"type\":\"ndarray\",\"array\":{\"type\":\"bytes\",\"data\":\"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\"},\"shape\":[240],\"dtype\":\"float64\",\"order\":\"little\"}],[\"volume\",{\"type\":\"ndarray\",\"array\":{\"type\":\"bytes\",\"data\":\"nAMAAJwDAAA7AwAAOwMAAOoBAADqAQAASQMAAEkDAAC0AgAAtAIAAGMDAABjAwAAXAMAAFwDAADOAwAAzgMAABUAAAAVAAAA7wIAAO8CAAA6AQAAOgEAANECAADRAgAA2wMAANsDAAAMAQAADAEAAJkCAACZAgAA0wMAANMDAACRAgAAkQIAAKsDAACrAwAAVgMAAFYDAABfAgAAXwIAANsAAADbAAAAZwMAAGcDAACBAwAAgQMAANEBAADRAQAAdAMAAHQDAADeAgAA3gIAAAgBAAAIAQAA4gIAAOICAABPAwAATwMAAC0BAAAtAQAArwEAAK8BAABiAwAAYgMAAFQCAABUAgAAsQMAALEDAAC9AwAAvQMAADIAAAAyAAAASAAAAEgAAAABAwAAAQMAAE4BAABOAQAANgAAADYAAAAQAQAAEAEAAIkDAACJAwAA/QIAAP0CAADbAgAA2wIAAKkDAACpAwAAmQIAAJkCAAB3AQAAdwEAABUCAAAVAgAAPgIAAD4CAACaAAAAmgAAAJwDAACcAwAAmQAAAJkAAAAKAwAACgMAAD0DAAA9AwAAMgMAADIDAACaAQAAmgEAANIBAADSAQAAmAEAAJgBAACEAgAAhAIAAIcCAACHAgAAhQAAAIUAAADxAAAA8QAAADsDAAA7AwAAegEAAHoBAACiAwAAogMAANYBAADWAQAAuQIAALkCAABfAAAAXwAAAOUCAADlAgAA8wEAAPMBAAALAAAACwAAAMQBAADEAQAAxgIAAMYCAACKAgAAigIAAK8AAACvAAAA1gEAANYBAADhAQAA4QEAAA8DAAAPAwAAnwEAAJ8BAABUAAAAVAAAAOABAADgAQAA+gEAAPoBAACDAQAAgwEAAK0CAACtAgAAcwEAAHMBAADmAwAA5gMAALgCAAC4AgAAXgIAAF4CAAAEAwAABAMAAB4AAAAeAAAA6AEAAOgBAADKAQAAygEAAB0BAAAdAQAAbAAAAGwAAAC+AAAAvgAAANkAAADZAAAAmQIAAJkCAAAcAgAAHAIAABEAAAARAAAAAAAAAAAAAADaAwAA2gMAAJEDAACRAwAAOAMAADgDAABWAwAAVgMAAAQAAAAEAAAA+AAAAPgAAAAEAwAABAMAAIsBAACLAQAAHAIAABwCAAC0AAAAtAAAAFoDAABaAwAAzwIAAM8CAACTAgAAkwIAAGkAAABpAAAAzwMAAM8DAAARAAAAEQAAAKcCAACnAgAAWQAAAFkAAADSAgAA0gIAAA4DAAAOAwAA\"},\"shape\":[240],\"dtype\":\"int32\",\"order\":\"little\"}]]}}},\"view\":{\"type\":\"object\",\"name\":\"CDSView\",\"id\":\"p1844\",\"attributes\":{\"filter\":{\"type\":\"object\",\"name\":\"AllIndices\",\"id\":\"p1845\"}}},\"glyph\":{\"type\":\"object\",\"name\":\"Line\",\"id\":\"p1840\",\"attributes\":{\"tags\":[\"apply_ranges\"],\"x\":{\"type\":\"field\",\"field\":\"index\"},\"y\":{\"type\":\"field\",\"field\":\"volume\"},\"line_color\":\"#30a2da\",\"line_width\":2}},\"selection_glyph\":{\"type\":\"object\",\"name\":\"Line\",\"id\":\"p1846\",\"attributes\":{\"tags\":[\"apply_ranges\"],\"x\":{\"type\":\"field\",\"field\":\"index\"},\"y\":{\"type\":\"field\",\"field\":\"volume\"},\"line_color\":\"#30a2da\",\"line_width\":2}},\"nonselection_glyph\":{\"type\":\"object\",\"name\":\"Line\",\"id\":\"p1841\",\"attributes\":{\"tags\":[\"apply_ranges\"],\"x\":{\"type\":\"field\",\"field\":\"index\"},\"y\":{\"type\":\"field\",\"field\":\"volume\"},\"line_color\":\"#30a2da\",\"line_alpha\":0.1,\"line_width\":2}},\"muted_glyph\":{\"type\":\"object\",\"name\":\"Line\",\"id\":\"p1842\",\"attributes\":{\"tags\":[\"apply_ranges\"],\"x\":{\"type\":\"field\",\"field\":\"index\"},\"y\":{\"type\":\"field\",\"field\":\"volume\"},\"line_color\":\"#30a2da\",\"line_alpha\":0.2,\"line_width\":2}}}}],\"tooltips\":[[\"index\",\"@{index}\"],[\"volume\",\"@{volume}\"]]}}]}},{\"type\":\"object\",\"name\":\"SaveTool\",\"id\":\"p1852\"},{\"type\":\"object\",\"name\":\"ToolProxy\",\"id\":\"p1853\",\"attributes\":{\"tools\":[{\"type\":\"object\",\"name\":\"PanTool\",\"id\":\"p1763\"},{\"type\":\"object\",\"name\":\"PanTool\",\"id\":\"p1826\"}]}},{\"type\":\"object\",\"name\":\"ToolProxy\",\"id\":\"p1854\",\"attributes\":{\"tools\":[{\"type\":\"object\",\"name\":\"BoxZoomTool\",\"id\":\"p1764\",\"attributes\":{\"overlay\":{\"type\":\"object\",\"name\":\"BoxAnnotation\",\"id\":\"p1765\",\"attributes\":{\"syncable\":false,\"level\":\"overlay\",\"visible\":false,\"left\":{\"type\":\"number\",\"value\":\"nan\"},\"right\":{\"type\":\"number\",\"value\":\"nan\"},\"top\":{\"type\":\"number\",\"value\":\"nan\"},\"bottom\":{\"type\":\"number\",\"value\":\"nan\"},\"left_units\":\"canvas\",\"right_units\":\"canvas\",\"top_units\":\"canvas\",\"bottom_units\":\"canvas\",\"line_color\":\"black\",\"line_alpha\":1.0,\"line_width\":2,\"line_dash\":[4,4],\"fill_color\":\"lightgrey\",\"fill_alpha\":0.5}}}},{\"type\":\"object\",\"name\":\"BoxZoomTool\",\"id\":\"p1827\",\"attributes\":{\"overlay\":{\"type\":\"object\",\"name\":\"BoxAnnotation\",\"id\":\"p1828\",\"attributes\":{\"syncable\":false,\"level\":\"overlay\",\"visible\":false,\"left\":{\"type\":\"number\",\"value\":\"nan\"},\"right\":{\"type\":\"number\",\"value\":\"nan\"},\"top\":{\"type\":\"number\",\"value\":\"nan\"},\"bottom\":{\"type\":\"number\",\"value\":\"nan\"},\"left_units\":\"canvas\",\"right_units\":\"canvas\",\"top_units\":\"canvas\",\"bottom_units\":\"canvas\",\"line_color\":\"black\",\"line_alpha\":1.0,\"line_width\":2,\"line_dash\":[4,4],\"fill_color\":\"lightgrey\",\"fill_alpha\":0.5}}}}]}},{\"type\":\"object\",\"name\":\"ToolProxy\",\"id\":\"p1855\",\"attributes\":{\"tools\":[{\"type\":\"object\",\"name\":\"ResetTool\",\"id\":\"p1770\"},{\"type\":\"object\",\"name\":\"ResetTool\",\"id\":\"p1833\"}]}}]}},\"children\":[[{\"type\":\"object\",\"name\":\"Figure\",\"id\":\"p1740\",\"attributes\":{\"width\":700,\"height\":400,\"sizing_mode\":\"fixed\",\"align\":\"start\",\"x_range\":{\"type\":\"object\",\"name\":\"Range1d\",\"id\":\"p1731\",\"attributes\":{\"tags\":[[[\"index\",\"index\",null]],[]],\"start\":120.0,\"end\":239.0,\"reset_start\":120.0,\"reset_end\":239.0}},\"y_range\":{\"type\":\"object\",\"name\":\"Range1d\",\"id\":\"p1732\",\"attributes\":{\"tags\":[[[\"price\",\"price\",null]],{\"type\":\"map\",\"entries\":[[\"invert_yaxis\",false],[\"autorange\",false]]}],\"start\":-1.1899038177264383,\"end\":32.1401786957587,\"reset_start\":-1.1899038177264383,\"reset_end\":32.1401786957587}},\"x_scale\":{\"type\":\"object\",\"name\":\"LinearScale\",\"id\":\"p1750\"},\"y_scale\":{\"type\":\"object\",\"name\":\"LinearScale\",\"id\":\"p1751\"},\"title\":{\"type\":\"object\",\"name\":\"Title\",\"id\":\"p1743\",\"attributes\":{\"text_color\":\"black\",\"text_font_size\":\"12pt\"}},\"renderers\":[{\"id\":\"p1780\"},{\"type\":\"object\",\"name\":\"GlyphRenderer\",\"id\":\"p1793\",\"attributes\":{\"data_source\":{\"type\":\"object\",\"name\":\"ColumnDataSource\",\"id\":\"p1784\",\"attributes\":{\"selected\":{\"type\":\"object\",\"name\":\"Selection\",\"id\":\"p1785\",\"attributes\":{\"indices\":[],\"line_indices\":[]}},\"selection_policy\":{\"type\":\"object\",\"name\":\"UnionRenderers\",\"id\":\"p1786\"},\"data\":{\"type\":\"map\",\"entries\":[[\"left\",{\"type\":\"ndarray\",\"array\":{\"type\":\"bytes\",\"data\":\"AAAAAAAAXkAAAAAAAABeQAAAAAAAAF5AAAAAAAAAXkAAAAAAAABeQAAAAAAAAF5AAAAAAAAAXkAAAAAAAABeQAAAAAAAAF5AAAAAAAAAXkAAAAAAAABeQAAAAAAAAF5AAAAAAAAAXkAAAAAAAABeQAAAAAAAAF5AAAAAAAAAXkAAAAAAAABeQAAAAAAAAF5AAAAAAAAAXkAAAAAAAABeQA==\"},\"shape\":[20],\"dtype\":\"float64\",\"order\":\"little\"}],[\"right\",{\"type\":\"ndarray\",\"array\":{\"type\":\"bytes\",\"data\":\"eYVORdEBYkB4LhrpIXRiQEDhdhhkdGhAsOwqlC7/Z0A21zzvRyJrQBxqesyXI2ZAy+U3hneXY0AjovI322NjQLlTKcYqlWBAHelcvj3paUCcCoVex4tmQN54U4AoAGxAAim7z1qeaEAjZTKk+NRlQPGzaC7zdWVAMGEyAOvtYED63abMDH1fQCRaQC3ndmFA4pmfebccZUBJ7viXmKFjQA==\"},\"shape\":[20],\"dtype\":\"float64\",\"order\":\"little\"}],[\"bottom\",{\"type\":\"ndarray\",\"array\":{\"type\":\"bytes\",\"data\":\"jIntdtJm+T9APKz+k88HQN7Z8GDfdRFAm5WLwvQDF0BYUSYkCpIcQIqG4MIPECFAauStcxrXI0BIQnskJZ4mQCagSNUvZSlABv4VhjosLEDkW+M2RfMuQOFc2PMn3TBA0Qs/TK1AMkDAuqWkMqQzQK9pDP23BzVAnxhzVT1rNkCOx9mtws43QH12QAZIMjlAbSWnXs2VOkBc1A23Uvk7QA==\"},\"shape\":[20],\"dtype\":\"float64\",\"order\":\"little\"}],[\"top\",{\"type\":\"ndarray\",\"array\":{\"type\":\"bytes\",\"data\":\"QDys/pPPB0Dd2fBg33URQJuVi8L0AxdAWFEmJAqSHECKhuDCDxAhQGjkrXMa1yNASEJ7JCWeJkAmoEjVL2UpQAT+FYY6LCxA5FvjNkXzLkDhXNjzJ90wQNALP0ytQDJAwLqlpDKkM0CvaQz9twc1QJ4Yc1U9azZAjsfZrcLON0B9dkAGSDI5QGwlp17NlTpAXNQNt1L5O0BLg3QP2Fw9QA==\"},\"shape\":[20],\"dtype\":\"float64\",\"order\":\"little\"}]]}}},\"view\":{\"type\":\"object\",\"name\":\"CDSView\",\"id\":\"p1794\",\"attributes\":{\"filter\":{\"type\":\"object\",\"name\":\"AllIndices\",\"id\":\"p1795\"}}},\"glyph\":{\"type\":\"object\",\"name\":\"Quad\",\"id\":\"p1790\",\"attributes\":{\"tags\":[\"apply_ranges\"],\"left\":{\"type\":\"field\",\"field\":\"left\"},\"right\":{\"type\":\"field\",\"field\":\"right\"},\"bottom\":{\"type\":\"field\",\"field\":\"bottom\"},\"top\":{\"type\":\"field\",\"field\":\"top\"},\"line_alpha\":{\"type\":\"value\",\"value\":0.5},\"fill_color\":{\"type\":\"value\",\"value\":\"#1f77b4\"},\"fill_alpha\":{\"type\":\"value\",\"value\":0.5},\"hatch_alpha\":{\"type\":\"value\",\"value\":0.5}}},\"selection_glyph\":{\"type\":\"object\",\"name\":\"Quad\",\"id\":\"p1796\",\"attributes\":{\"tags\":[\"apply_ranges\"],\"left\":{\"type\":\"field\",\"field\":\"left\"},\"right\":{\"type\":\"field\",\"field\":\"right\"},\"bottom\":{\"type\":\"field\",\"field\":\"bottom\"},\"top\":{\"type\":\"field\",\"field\":\"top\"},\"line_color\":{\"type\":\"value\",\"value\":\"black\"},\"line_alpha\":{\"type\":\"value\",\"value\":0.5},\"line_width\":{\"type\":\"value\",\"value\":1},\"line_join\":{\"type\":\"value\",\"value\":\"bevel\"},\"line_cap\":{\"type\":\"value\",\"value\":\"butt\"},\"line_dash\":{\"type\":\"value\",\"value\":[]},\"line_dash_offset\":{\"type\":\"value\",\"value\":0},\"fill_color\":{\"type\":\"value\",\"value\":\"#1f77b4\"},\"fill_alpha\":{\"type\":\"value\",\"value\":0.5},\"hatch_color\":{\"type\":\"value\",\"value\":\"black\"},\"hatch_alpha\":{\"type\":\"value\",\"value\":0.5},\"hatch_scale\":{\"type\":\"value\",\"value\":12.0},\"hatch_pattern\":{\"type\":\"value\",\"value\":null},\"hatch_weight\":{\"type\":\"value\",\"value\":1.0}}},\"nonselection_glyph\":{\"type\":\"object\",\"name\":\"Quad\",\"id\":\"p1791\",\"attributes\":{\"tags\":[\"apply_ranges\"],\"left\":{\"type\":\"field\",\"field\":\"left\"},\"right\":{\"type\":\"field\",\"field\":\"right\"},\"bottom\":{\"type\":\"field\",\"field\":\"bottom\"},\"top\":{\"type\":\"field\",\"field\":\"top\"},\"line_alpha\":{\"type\":\"value\",\"value\":0.5},\"fill_color\":{\"type\":\"value\",\"value\":\"#1f77b4\"},\"fill_alpha\":{\"type\":\"value\",\"value\":0.5},\"hatch_alpha\":{\"type\":\"value\",\"value\":0.1}}},\"muted_glyph\":{\"type\":\"object\",\"name\":\"Quad\",\"id\":\"p1792\",\"attributes\":{\"tags\":[\"apply_ranges\"],\"left\":{\"type\":\"field\",\"field\":\"left\"},\"right\":{\"type\":\"field\",\"field\":\"right\"},\"bottom\":{\"type\":\"field\",\"field\":\"bottom\"},\"top\":{\"type\":\"field\",\"field\":\"top\"},\"line_alpha\":{\"type\":\"value\",\"value\":0.5},\"fill_color\":{\"type\":\"value\",\"value\":\"#1f77b4\"},\"fill_alpha\":{\"type\":\"value\",\"value\":0.5},\"hatch_alpha\":{\"type\":\"value\",\"value\":0.2}}}}}],\"toolbar\":{\"type\":\"object\",\"name\":\"Toolbar\",\"id\":\"p1749\",\"attributes\":{\"tools\":[{\"id\":\"p1736\"},{\"id\":\"p1737\"},{\"type\":\"object\",\"name\":\"SaveTool\",\"id\":\"p1762\"},{\"id\":\"p1763\"},{\"id\":\"p1764\"},{\"id\":\"p1770\"}],\"active_drag\":{\"id\":\"p1763\"},\"active_scroll\":{\"id\":\"p1736\"}}},\"toolbar_location\":null,\"left\":[{\"type\":\"object\",\"name\":\"LinearAxis\",\"id\":\"p1757\",\"attributes\":{\"ticker\":{\"type\":\"object\",\"name\":\"BasicTicker\",\"id\":\"p1758\",\"attributes\":{\"mantissas\":[1,2,5]}},\"formatter\":{\"type\":\"object\",\"name\":\"BasicTickFormatter\",\"id\":\"p1759\"},\"axis_label\":\"price\",\"major_label_policy\":{\"type\":\"object\",\"name\":\"AllLabels\",\"id\":\"p1760\"}}}],\"below\":[{\"type\":\"object\",\"name\":\"LinearAxis\",\"id\":\"p1752\",\"attributes\":{\"ticker\":{\"type\":\"object\",\"name\":\"BasicTicker\",\"id\":\"p1753\",\"attributes\":{\"mantissas\":[1,2,5]}},\"formatter\":{\"type\":\"object\",\"name\":\"BasicTickFormatter\",\"id\":\"p1754\"},\"axis_label\":\"\",\"major_label_policy\":{\"type\":\"object\",\"name\":\"AllLabels\",\"id\":\"p1755\"}}}],\"center\":[{\"type\":\"object\",\"name\":\"Grid\",\"id\":\"p1756\",\"attributes\":{\"axis\":{\"id\":\"p1752\"},\"grid_line_color\":null}},{\"type\":\"object\",\"name\":\"Grid\",\"id\":\"p1761\",\"attributes\":{\"dimension\":1,\"axis\":{\"id\":\"p1757\"},\"grid_line_color\":null}}],\"min_border_top\":10,\"min_border_bottom\":10,\"min_border_left\":10,\"min_border_right\":10,\"output_backend\":\"webgl\"}},0,0],[{\"type\":\"object\",\"name\":\"Figure\",\"id\":\"p1803\",\"attributes\":{\"width\":700,\"height\":200,\"sizing_mode\":\"fixed\",\"align\":\"start\",\"x_range\":{\"id\":\"p1731\"},\"y_range\":{\"type\":\"object\",\"name\":\"Range1d\",\"id\":\"p1797\",\"attributes\":{\"tags\":[[[\"volume\",\"volume\",null]],{\"type\":\"map\",\"entries\":[[\"invert_yaxis\",false],[\"autorange\",false]]}],\"start\":-99.80000000000001,\"end\":1097.8,\"reset_start\":-99.80000000000001,\"reset_end\":1097.8}},\"x_scale\":{\"type\":\"object\",\"name\":\"LinearScale\",\"id\":\"p1813\"},\"y_scale\":{\"type\":\"object\",\"name\":\"LinearScale\",\"id\":\"p1814\"},\"title\":{\"type\":\"object\",\"name\":\"Title\",\"id\":\"p1806\",\"attributes\":{\"text_color\":\"black\",\"text_font_size\":\"12pt\"}},\"renderers\":[{\"id\":\"p1843\"}],\"toolbar\":{\"type\":\"object\",\"name\":\"Toolbar\",\"id\":\"p1812\",\"attributes\":{\"tools\":[{\"id\":\"p1801\"},{\"id\":\"p1802\"},{\"type\":\"object\",\"name\":\"SaveTool\",\"id\":\"p1825\"},{\"id\":\"p1826\"},{\"id\":\"p1827\"},{\"id\":\"p1833\"}],\"active_drag\":{\"id\":\"p1826\"},\"active_scroll\":{\"id\":\"p1801\"}}},\"toolbar_location\":null,\"left\":[{\"type\":\"object\",\"name\":\"LinearAxis\",\"id\":\"p1820\",\"attributes\":{\"ticker\":{\"type\":\"object\",\"name\":\"BasicTicker\",\"id\":\"p1821\",\"attributes\":{\"mantissas\":[1,2,5]}},\"formatter\":{\"type\":\"object\",\"name\":\"BasicTickFormatter\",\"id\":\"p1822\"},\"axis_label\":\"volume\",\"major_label_policy\":{\"type\":\"object\",\"name\":\"AllLabels\",\"id\":\"p1823\"}}}],\"below\":[{\"type\":\"object\",\"name\":\"LinearAxis\",\"id\":\"p1815\",\"attributes\":{\"ticker\":{\"type\":\"object\",\"name\":\"BasicTicker\",\"id\":\"p1816\",\"attributes\":{\"mantissas\":[1,2,5]}},\"formatter\":{\"type\":\"object\",\"name\":\"BasicTickFormatter\",\"id\":\"p1817\"},\"axis_label\":\"\",\"major_label_policy\":{\"type\":\"object\",\"name\":\"AllLabels\",\"id\":\"p1818\"}}}],\"center\":[{\"type\":\"object\",\"name\":\"Grid\",\"id\":\"p1819\",\"attributes\":{\"axis\":{\"id\":\"p1815\"},\"grid_line_color\":null}},{\"type\":\"object\",\"name\":\"Grid\",\"id\":\"p1824\",\"attributes\":{\"dimension\":1,\"axis\":{\"id\":\"p1820\"},\"grid_line_color\":null}}],\"min_border_top\":10,\"min_border_bottom\":10,\"min_border_left\":10,\"min_border_right\":10,\"output_backend\":\"webgl\"}},1,0]]}}]}}]}},{\"type\":\"object\",\"name\":\"panel.models.comm_manager.CommManager\",\"id\":\"p1861\",\"attributes\":{\"plot_id\":\"p1725\",\"comm_id\":\"50df5c4ce04d4f529bfc7f1fc64f9b8a\",\"client_comm_id\":\"78bc1405ad364eebac18a71f3b18f329\"}}],\"defs\":[{\"type\":\"model\",\"name\":\"ReactiveHTML1\"},{\"type\":\"model\",\"name\":\"FlexBox1\",\"properties\":[{\"name\":\"align_content\",\"kind\":\"Any\",\"default\":\"flex-start\"},{\"name\":\"align_items\",\"kind\":\"Any\",\"default\":\"flex-start\"},{\"name\":\"flex_direction\",\"kind\":\"Any\",\"default\":\"row\"},{\"name\":\"flex_wrap\",\"kind\":\"Any\",\"default\":\"wrap\"},{\"name\":\"gap\",\"kind\":\"Any\",\"default\":\"\"},{\"name\":\"justify_content\",\"kind\":\"Any\",\"default\":\"flex-start\"}]},{\"type\":\"model\",\"name\":\"FloatPanel1\",\"properties\":[{\"name\":\"config\",\"kind\":\"Any\",\"default\":{\"type\":\"map\"}},{\"name\":\"contained\",\"kind\":\"Any\",\"default\":true},{\"name\":\"position\",\"kind\":\"Any\",\"default\":\"right-top\"},{\"name\":\"offsetx\",\"kind\":\"Any\",\"default\":null},{\"name\":\"offsety\",\"kind\":\"Any\",\"default\":null},{\"name\":\"theme\",\"kind\":\"Any\",\"default\":\"primary\"},{\"name\":\"status\",\"kind\":\"Any\",\"default\":\"normalized\"}]},{\"type\":\"model\",\"name\":\"GridStack1\",\"properties\":[{\"name\":\"mode\",\"kind\":\"Any\",\"default\":\"warn\"},{\"name\":\"ncols\",\"kind\":\"Any\",\"default\":null},{\"name\":\"nrows\",\"kind\":\"Any\",\"default\":null},{\"name\":\"allow_resize\",\"kind\":\"Any\",\"default\":true},{\"name\":\"allow_drag\",\"kind\":\"Any\",\"default\":true},{\"name\":\"state\",\"kind\":\"Any\",\"default\":[]}]},{\"type\":\"model\",\"name\":\"drag1\",\"properties\":[{\"name\":\"slider_width\",\"kind\":\"Any\",\"default\":5},{\"name\":\"slider_color\",\"kind\":\"Any\",\"default\":\"black\"},{\"name\":\"value\",\"kind\":\"Any\",\"default\":50}]},{\"type\":\"model\",\"name\":\"click1\",\"properties\":[{\"name\":\"terminal_output\",\"kind\":\"Any\",\"default\":\"\"},{\"name\":\"debug_name\",\"kind\":\"Any\",\"default\":\"\"},{\"name\":\"clears\",\"kind\":\"Any\",\"default\":0}]},{\"type\":\"model\",\"name\":\"FastWrapper1\",\"properties\":[{\"name\":\"object\",\"kind\":\"Any\",\"default\":null},{\"name\":\"style\",\"kind\":\"Any\",\"default\":null}]},{\"type\":\"model\",\"name\":\"NotificationAreaBase1\",\"properties\":[{\"name\":\"js_events\",\"kind\":\"Any\",\"default\":{\"type\":\"map\"}},{\"name\":\"position\",\"kind\":\"Any\",\"default\":\"bottom-right\"},{\"name\":\"_clear\",\"kind\":\"Any\",\"default\":0}]},{\"type\":\"model\",\"name\":\"NotificationArea1\",\"properties\":[{\"name\":\"js_events\",\"kind\":\"Any\",\"default\":{\"type\":\"map\"}},{\"name\":\"notifications\",\"kind\":\"Any\",\"default\":[]},{\"name\":\"position\",\"kind\":\"Any\",\"default\":\"bottom-right\"},{\"name\":\"_clear\",\"kind\":\"Any\",\"default\":0},{\"name\":\"types\",\"kind\":\"Any\",\"default\":[{\"type\":\"map\",\"entries\":[[\"type\",\"warning\"],[\"background\",\"#ffc107\"],[\"icon\",{\"type\":\"map\",\"entries\":[[\"className\",\"fas fa-exclamation-triangle\"],[\"tagName\",\"i\"],[\"color\",\"white\"]]}]]},{\"type\":\"map\",\"entries\":[[\"type\",\"info\"],[\"background\",\"#007bff\"],[\"icon\",{\"type\":\"map\",\"entries\":[[\"className\",\"fas fa-info-circle\"],[\"tagName\",\"i\"],[\"color\",\"white\"]]}]]}]}]},{\"type\":\"model\",\"name\":\"Notification\",\"properties\":[{\"name\":\"background\",\"kind\":\"Any\",\"default\":null},{\"name\":\"duration\",\"kind\":\"Any\",\"default\":3000},{\"name\":\"icon\",\"kind\":\"Any\",\"default\":null},{\"name\":\"message\",\"kind\":\"Any\",\"default\":\"\"},{\"name\":\"notification_type\",\"kind\":\"Any\",\"default\":null},{\"name\":\"_destroyed\",\"kind\":\"Any\",\"default\":false}]},{\"type\":\"model\",\"name\":\"TemplateActions1\",\"properties\":[{\"name\":\"open_modal\",\"kind\":\"Any\",\"default\":0},{\"name\":\"close_modal\",\"kind\":\"Any\",\"default\":0}]},{\"type\":\"model\",\"name\":\"BootstrapTemplateActions1\",\"properties\":[{\"name\":\"open_modal\",\"kind\":\"Any\",\"default\":0},{\"name\":\"close_modal\",\"kind\":\"Any\",\"default\":0}]},{\"type\":\"model\",\"name\":\"TemplateEditor1\",\"properties\":[{\"name\":\"layout\",\"kind\":\"Any\",\"default\":[]}]},{\"type\":\"model\",\"name\":\"MaterialTemplateActions1\",\"properties\":[{\"name\":\"open_modal\",\"kind\":\"Any\",\"default\":0},{\"name\":\"close_modal\",\"kind\":\"Any\",\"default\":0}]},{\"type\":\"model\",\"name\":\"copy_to_clipboard1\",\"properties\":[{\"name\":\"fill\",\"kind\":\"Any\",\"default\":\"none\"},{\"name\":\"value\",\"kind\":\"Any\",\"default\":null}]}]}};\n",
       "  var render_items = [{\"docid\":\"94652ef6-b2a4-47dc-8830-1f1d30621124\",\"roots\":{\"p1725\":\"fe4f32f5-9221-4109-9196-3f924c9088e6\"},\"root_ids\":[\"p1725\"]}];\n",
       "  var docs = Object.values(docs_json)\n",
       "  if (!docs) {\n",
       "    return\n",
       "  }\n",
       "  const py_version = docs[0].version.replace('rc', '-rc.').replace('.dev', '-dev.')\n",
       "  async function embed_document(root) {\n",
       "    var Bokeh = get_bokeh(root)\n",
       "    await Bokeh.embed.embed_items_notebook(docs_json, render_items);\n",
       "    for (const render_item of render_items) {\n",
       "      for (const root_id of render_item.root_ids) {\n",
       "\tconst id_el = document.getElementById(root_id)\n",
       "\tif (id_el.children.length && id_el.children[0].hasAttribute('data-root-id')) {\n",
       "\t  const root_el = id_el.children[0]\n",
       "\t  root_el.id = root_el.id + '-rendered'\n",
       "\t  for (const child of root_el.children) {\n",
       "            // Ensure JupyterLab does not capture keyboard shortcuts\n",
       "            // see: https://jupyterlab.readthedocs.io/en/4.1.x/extension/notebook.html#keyboard-interaction-model\n",
       "\t    child.setAttribute('data-lm-suppress-shortcuts', 'true')\n",
       "\t  }\n",
       "\t}\n",
       "      }\n",
       "    }\n",
       "  }\n",
       "  function get_bokeh(root) {\n",
       "    if (root.Bokeh === undefined) {\n",
       "      return null\n",
       "    } else if (root.Bokeh.version !== py_version) {\n",
       "      if (root.Bokeh.versions === undefined || !root.Bokeh.versions.has(py_version)) {\n",
       "\treturn null\n",
       "      }\n",
       "      return root.Bokeh.versions.get(py_version);\n",
       "    } else if (root.Bokeh.version === py_version) {\n",
       "      return root.Bokeh\n",
       "    }\n",
       "    return null\n",
       "  }\n",
       "  function is_loaded(root) {\n",
       "    var Bokeh = get_bokeh(root)\n",
       "    return (Bokeh != null && Bokeh.Panel !== undefined)\n",
       "  }\n",
       "  if (is_loaded(root)) {\n",
       "    embed_document(root);\n",
       "  } else {\n",
       "    var attempts = 0;\n",
       "    var timer = setInterval(function(root) {\n",
       "      if (is_loaded(root)) {\n",
       "        clearInterval(timer);\n",
       "        embed_document(root);\n",
       "      } else if (document.readyState == \"complete\") {\n",
       "        attempts++;\n",
       "        if (attempts > 200) {\n",
       "          clearInterval(timer);\n",
       "\t  var Bokeh = get_bokeh(root)\n",
       "\t  if (Bokeh == null || Bokeh.Panel == null) {\n",
       "            console.warn(\"Panel: ERROR: Unable to run Panel code because Bokeh or Panel library is missing\");\n",
       "\t  } else {\n",
       "\t    console.warn(\"Panel: WARNING: Attempting to render but not all required libraries could be resolved.\")\n",
       "\t    embed_document(root)\n",
       "\t  }\n",
       "        }\n",
       "      }\n",
       "    }, 25, root)\n",
       "  }\n",
       "})(window);</script>"
      ],
      "text/plain": [
       "Column\n",
       "    [0] IntSlider(end=1000, name='time', start=120, step=10, value=120)\n",
       "    [1] ParamFunction(function, _pane=HoloViews, defer_load=False)"
      ]
     },
     "execution_count": 20,
     "metadata": {
      "application/vnd.holoviews_exec.v0+json": {
       "id": "p1725"
      }
     },
     "output_type": "execute_result"
    }
   ],
   "source": [
    "dashboard = pn.Column(slider, pbv_plot_interactive)\n",
    "dashboard.servable()\n",
    "dashboard"
   ]
  },
  {
   "cell_type": "code",
   "execution_count": null,
   "id": "b878d211-f00b-46a4-aee3-5e28ad8736b3",
   "metadata": {},
   "outputs": [],
   "source": []
  },
  {
   "cell_type": "code",
   "execution_count": 24,
   "id": "31a0348d-a873-471a-a621-c6c282b21dbf",
   "metadata": {},
   "outputs": [
    {
     "name": "stdout",
     "output_type": "stream",
     "text": [
      "  0%|                                                                                                                          | 0/89 [00:00<?, ?it/s]use 1000\n",
      "use 990\n",
      "use 980\n",
      "use 970\n",
      "use 960\n",
      "use 950\n",
      "use 940\n",
      "use 930\n",
      "use 920\n",
      "use 910\n",
      "use 900\n",
      "use 890\n",
      "use 880\n",
      "use 870\n",
      " 16%|█████████████████▊                                                                                               | 14/89 [00:00<00:02, 33.73it/s]use 860\n",
      "use 850\n",
      "use 840\n",
      "use 830\n",
      " 20%|██████████████████████▊                                                                                          | 18/89 [00:02<00:10,  6.92it/s]use 820\n",
      "use 810\n",
      " 22%|█████████████████████████▍                                                                                       | 20/89 [00:02<00:12,  5.38it/s]use 800\n",
      " 24%|██████████████████████████▋                                                                                      | 21/89 [00:03<00:14,  4.82it/s]use 790\n",
      " 25%|███████████████████████████▉                                                                                     | 22/89 [00:03<00:15,  4.32it/s]use 780\n",
      " 26%|█████████████████████████████▏                                                                                   | 23/89 [00:04<00:16,  3.90it/s]use 770\n",
      " 27%|██████████████████████████████▍                                                                                  | 24/89 [00:04<00:18,  3.56it/s]use 760\n",
      " 28%|███████████████████████████████▋                                                                                 | 25/89 [00:04<00:19,  3.30it/s]use 750\n",
      " 29%|█████████████████████████████████                                                                                | 26/89 [00:05<00:20,  3.11it/s]use 740\n",
      " 30%|██████████████████████████████████▎                                                                              | 27/89 [00:05<00:20,  2.96it/s]use 730\n",
      " 31%|███████████████████████████████████▌                                                                             | 28/89 [00:05<00:21,  2.84it/s]use 720\n",
      " 33%|████████████████████████████████████▊                                                                            | 29/89 [00:06<00:21,  2.77it/s]use 710\n",
      " 34%|██████████████████████████████████████                                                                           | 30/89 [00:06<00:21,  2.70it/s]use 700\n",
      " 35%|███████████████████████████████████████▎                                                                         | 31/89 [00:07<00:25,  2.31it/s]use 690\n",
      " 36%|████████████████████████████████████████▋                                                                        | 32/89 [00:07<00:23,  2.38it/s]use 680\n",
      " 37%|█████████████████████████████████████████▉                                                                       | 33/89 [00:08<00:22,  2.44it/s]use 670\n",
      " 38%|███████████████████████████████████████████▏                                                                     | 34/89 [00:08<00:22,  2.49it/s]use 660\n",
      " 39%|████████████████████████████████████████████▍                                                                    | 35/89 [00:08<00:21,  2.52it/s]use 650\n",
      " 40%|█████████████████████████████████████████████▋                                                                   | 36/89 [00:09<00:20,  2.54it/s]use 640\n",
      " 42%|██████████████████████████████████████████████▉                                                                  | 37/89 [00:09<00:20,  2.55it/s]use 630\n",
      " 43%|████████████████████████████████████████████████▏                                                                | 38/89 [00:10<00:19,  2.57it/s]use 620\n",
      " 44%|█████████████████████████████████████████████████▌                                                               | 39/89 [00:10<00:19,  2.57it/s]use 610\n",
      " 45%|██████████████████████████████████████████████████▊                                                              | 40/89 [00:10<00:19,  2.57it/s]use 600\n",
      " 46%|████████████████████████████████████████████████████                                                             | 41/89 [00:11<00:18,  2.57it/s]use 590\n",
      " 47%|█████████████████████████████████████████████████████▎                                                           | 42/89 [00:11<00:18,  2.58it/s]use 580\n",
      " 48%|██████████████████████████████████████████████████████▌                                                          | 43/89 [00:11<00:17,  2.58it/s]use 570\n",
      " 49%|███████████████████████████████████████████████████████▊                                                         | 44/89 [00:12<00:17,  2.58it/s]use 560\n",
      " 51%|█████████████████████████████████████████████████████████▏                                                       | 45/89 [00:12<00:17,  2.56it/s]use 550\n",
      " 52%|██████████████████████████████████████████████████████████▍                                                      | 46/89 [00:13<00:19,  2.17it/s]use 540\n",
      " 53%|███████████████████████████████████████████████████████████▋                                                     | 47/89 [00:13<00:18,  2.27it/s]use 530\n",
      " 54%|████████████████████████████████████████████████████████████▉                                                    | 48/89 [00:14<00:17,  2.36it/s]use 520\n",
      " 55%|██████████████████████████████████████████████████████████████▏                                                  | 49/89 [00:14<00:16,  2.41it/s]use 510\n",
      " 56%|███████████████████████████████████████████████████████████████▍                                                 | 50/89 [00:14<00:15,  2.46it/s]use 500\n",
      " 57%|████████████████████████████████████████████████████████████████▊                                                | 51/89 [00:15<00:15,  2.50it/s]use 490\n",
      " 58%|██████████████████████████████████████████████████████████████████                                               | 52/89 [00:15<00:14,  2.52it/s]use 480\n",
      " 60%|███████████████████████████████████████████████████████████████████▎                                             | 53/89 [00:16<00:14,  2.54it/s]use 470\n",
      " 61%|████████████████████████████████████████████████████████████████████▌                                            | 54/89 [00:16<00:13,  2.54it/s]use 460\n",
      " 62%|█████████████████████████████████████████████████████████████████████▊                                           | 55/89 [00:16<00:13,  2.54it/s]use 450\n",
      " 63%|███████████████████████████████████████████████████████████████████████                                          | 56/89 [00:17<00:12,  2.55it/s]use 440\n",
      " 64%|████████████████████████████████████████████████████████████████████████▎                                        | 57/89 [00:17<00:12,  2.54it/s]use 430\n",
      " 65%|█████████████████████████████████████████████████████████████████████████▋                                       | 58/89 [00:18<00:12,  2.55it/s]use 420\n",
      " 66%|██████████████████████████████████████████████████████████████████████████▉                                      | 59/89 [00:18<00:11,  2.56it/s]use 410\n",
      " 67%|████████████████████████████████████████████████████████████████████████████▏                                    | 60/89 [00:18<00:11,  2.56it/s]use 400\n",
      " 69%|█████████████████████████████████████████████████████████████████████████████▍                                   | 61/89 [00:19<00:10,  2.56it/s]use 390\n",
      " 70%|██████████████████████████████████████████████████████████████████████████████▋                                  | 62/89 [00:19<00:12,  2.15it/s]use 380\n",
      " 71%|███████████████████████████████████████████████████████████████████████████████▉                                 | 63/89 [00:20<00:11,  2.26it/s]use 370\n",
      " 72%|█████████████████████████████████████████████████████████████████████████████████▎                               | 64/89 [00:20<00:10,  2.34it/s]use 360\n",
      " 73%|██████████████████████████████████████████████████████████████████████████████████▌                              | 65/89 [00:21<00:09,  2.41it/s]use 350\n",
      " 74%|███████████████████████████████████████████████████████████████████████████████████▊                             | 66/89 [00:21<00:09,  2.46it/s]use 340\n",
      " 75%|█████████████████████████████████████████████████████████████████████████████████████                            | 67/89 [00:21<00:08,  2.48it/s]use 330\n",
      " 76%|██████████████████████████████████████████████████████████████████████████████████████▎                          | 68/89 [00:22<00:08,  2.51it/s]use 320\n",
      " 78%|███████████████████████████████████████████████████████████████████████████████████████▌                         | 69/89 [00:22<00:07,  2.53it/s]use 310\n",
      " 79%|████████████████████████████████████████████████████████████████████████████████████████▉                        | 70/89 [00:22<00:07,  2.55it/s]use 300\n",
      " 80%|██████████████████████████████████████████████████████████████████████████████████████████▏                      | 71/89 [00:23<00:07,  2.55it/s]use 290\n",
      " 81%|███████████████████████████████████████████████████████████████████████████████████████████▍                     | 72/89 [00:23<00:06,  2.56it/s]use 280\n",
      " 82%|████████████████████████████████████████████████████████████████████████████████████████████▋                    | 73/89 [00:24<00:06,  2.57it/s]use 270\n",
      " 83%|█████████████████████████████████████████████████████████████████████████████████████████████▉                   | 74/89 [00:24<00:05,  2.57it/s]use 260\n",
      " 84%|███████████████████████████████████████████████████████████████████████████████████████████████▏                 | 75/89 [00:24<00:05,  2.57it/s]use 250\n",
      " 85%|████████████████████████████████████████████████████████████████████████████████████████████████▍                | 76/89 [00:25<00:05,  2.57it/s]use 240\n",
      " 87%|█████████████████████████████████████████████████████████████████████████████████████████████████▊               | 77/89 [00:25<00:04,  2.56it/s]use 230\n",
      " 88%|███████████████████████████████████████████████████████████████████████████████████████████████████              | 78/89 [00:26<00:05,  2.11it/s]use 220\n",
      " 89%|████████████████████████████████████████████████████████████████████████████████████████████████████▎            | 79/89 [00:26<00:04,  2.23it/s]use 210\n",
      " 90%|█████████████████████████████████████████████████████████████████████████████████████████████████████▌           | 80/89 [00:27<00:03,  2.32it/s]use 200\n",
      " 91%|██████████████████████████████████████████████████████████████████████████████████████████████████████▊          | 81/89 [00:27<00:03,  2.38it/s]use 190\n",
      " 92%|████████████████████████████████████████████████████████████████████████████████████████████████████████         | 82/89 [00:27<00:02,  2.43it/s]use 180\n",
      " 93%|█████████████████████████████████████████████████████████████████████████████████████████████████████████▍       | 83/89 [00:28<00:02,  2.47it/s]use 170\n",
      " 94%|██████████████████████████████████████████████████████████████████████████████████████████████████████████▋      | 84/89 [00:28<00:02,  2.50it/s]use 160\n",
      " 96%|███████████████████████████████████████████████████████████████████████████████████████████████████████████▉     | 85/89 [00:29<00:01,  2.52it/s]use 150\n",
      " 97%|█████████████████████████████████████████████████████████████████████████████████████████████████████████████▏   | 86/89 [00:29<00:01,  2.54it/s]use 140\n",
      " 98%|██████████████████████████████████████████████████████████████████████████████████████████████████████████████▍  | 87/89 [00:29<00:00,  2.54it/s]use 130\n",
      " 99%|███████████████████████████████████████████████████████████████████████████████████████████████████████████████▋ | 88/89 [00:30<00:00,  2.55it/s]use 120\n",
      "                                                                                                                                                      \r"
     ]
    }
   ],
   "source": [
    "dashboard.save(\"dashboard.html\", embed=True, max_opts=100)"
   ]
  },
  {
   "cell_type": "code",
   "execution_count": null,
   "id": "2274f892-c753-4436-99b4-038c3de40fbd",
   "metadata": {},
   "outputs": [],
   "source": []
  }
 ],
 "metadata": {
  "kernelspec": {
   "display_name": "anaconda3-2023.03",
   "language": "python",
   "name": "anaconda3-2023.03"
  },
  "language_info": {
   "codemirror_mode": {
    "name": "ipython",
    "version": 3
   },
   "file_extension": ".py",
   "mimetype": "text/x-python",
   "name": "python",
   "nbconvert_exporter": "python",
   "pygments_lexer": "ipython3",
   "version": "3.10.9"
  }
 },
 "nbformat": 4,
 "nbformat_minor": 5
}
